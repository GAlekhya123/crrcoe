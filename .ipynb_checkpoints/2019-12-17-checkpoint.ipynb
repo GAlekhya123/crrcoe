{
 "cells": [
  {
   "cell_type": "markdown",
   "metadata": {},
   "source": [
    "#  Seaboarn"
   ]
  },
  {
   "cell_type": "markdown",
   "metadata": {},
   "source": [
    "## Calling with no arguments returns all colors from the current default color cycle: Here, the palplot() is used to plot the array of colors horizontally"
   ]
  },
  {
   "cell_type": "code",
   "execution_count": null,
   "metadata": {},
   "outputs": [],
   "source": [
    "import seaborn as sns\n",
    "sns.palplot(sns.color_palette())"
   ]
  },
  {
   "cell_type": "code",
   "execution_count": null,
   "metadata": {},
   "outputs": [],
   "source": [
    "current_palette = sns.color_palette(\"RdBu\")\n",
    "sns.palplot(current_palette)"
   ]
  },
  {
   "cell_type": "code",
   "execution_count": null,
   "metadata": {},
   "outputs": [],
   "source": [
    "sns.palplot(sns.color_palette(\"RdBu\", n_colors=10))"
   ]
  },
  {
   "cell_type": "markdown",
   "metadata": {},
   "source": [
    "## Customized cubixhelix Make a sequential palette from the cubehelix system. This produces a colormap with linearly-decreasing (or increasing) brightness. That means that information will be preserved if printed to black and white or viewed by someone who is colorblind default palette"
   ]
  },
  {
   "cell_type": "code",
   "execution_count": null,
   "metadata": {},
   "outputs": [],
   "source": [
    "sns.set()\n",
    "sns.palplot(sns.cubehelix_palette())\n",
    "\n",
    "#we have parameters which include :start (float, 0 <= start <= 3,hue at the start of the helix)\n",
    "#rot : float,Rotations around the hue wheel\n",
    "#gamma : float 0 <= gamma,Gamma factor to emphasize darker (gamma < 1) or lighter (gamma > 1) colors\n",
    "#hue : float, 0 <= hue <= 1,Saturation of the colors.\n",
    "#dark : float 0 <= dark <= 1Intensity of the darkest color in the palette.\n",
    "#light : float 0 <= light <= 1Intensity of the lightest color in the palette.\n",
    "#reverse : boolIf True, the palette will go from dark to light.\n",
    "#as_cmap : bool If True, return a matplotlib colormap instead of a list of colors"
   ]
  },
  {
   "cell_type": "code",
   "execution_count": null,
   "metadata": {},
   "outputs": [],
   "source": [
    "sns.palplot(sns.cubehelix_palette(reverse=True))"
   ]
  },
  {
   "cell_type": "code",
   "execution_count": null,
   "metadata": {},
   "outputs": [],
   "source": [
    "sns.palplot(sns.cubehelix_palette(rot=-0.1))"
   ]
  },
  {
   "cell_type": "code",
   "execution_count": null,
   "metadata": {},
   "outputs": [],
   "source": [
    "sns.palplot(sns.cubehelix_palette(start=2.1, rot=-.1,reverse = True))"
   ]
  },
  {
   "cell_type": "markdown",
   "metadata": {},
   "source": [
    "## heatmap - plots the rectangular data as a color-encoded matrix"
   ]
  },
  {
   "cell_type": "code",
   "execution_count": null,
   "metadata": {},
   "outputs": [],
   "source": [
    "from numpy import arange\n",
    "x = arange(16).reshape(4, 4)\n",
    "cmap = sns.cubehelix_palette(as_cmap=True,rot=0) \n",
    "ax = sns.heatmap(x,cmap=cmap)#"
   ]
  },
  {
   "cell_type": "code",
   "execution_count": null,
   "metadata": {},
   "outputs": [],
   "source": [
    "cmap = sns.cubehelix_palette(dark=0, light=1, as_cmap=True)\n",
    "ax = sns.heatmap(x, cmap=cmap)"
   ]
  },
  {
   "cell_type": "markdown",
   "metadata": {},
   "source": [
    "# seaborn.jointplot():\n",
    "    Draw a plot of two variables with bivariate and univariate graphs\n",
    "- x, y : strings or vectors Data or names of variables in data.\n",
    "- data : DataFrame, optional DataFrame when x and y are variable names.\n",
    "- kind : { “scatter” | “reg” | “resid” | “kde” | “hex” }, optional Kind of plot to draw.\n",
    "- stat_func : callable or None, optional Deprecated \n",
    "- color : matplotlib color, optional Color used for the plot elements. \n",
    "- height : numeric, optional Size of the figure (it will be square). \n",
    "- ratio : numeric, optional Ratio of joint axes height to marginal axes height. \n",
    "- space : numeric, optionalSpace between the joint and marginal axes \n",
    "- dropna : bool, optionalIf True, remove observations that are missing from x and y. \n",
    "- {x, y}lim : two-tuples, optional Axis limits to set before plotting\n"
   ]
  },
  {
   "cell_type": "code",
   "execution_count": null,
   "metadata": {},
   "outputs": [],
   "source": [
    "import pandas as pd\n",
    "sns.set(style=\"white\")\n",
    "tips = sns.load_dataset(\"tips\")\n",
    "g = sns.jointplot(x=\"total_bill\", y=\"tip\", data=tips)"
   ]
  },
  {
   "cell_type": "markdown",
   "metadata": {},
   "source": [
    "# Load Iris data set from seaboarn"
   ]
  },
  {
   "cell_type": "code",
   "execution_count": null,
   "metadata": {},
   "outputs": [],
   "source": [
    "import pandas as pd\n",
    "df = sns.load_dataset('iris')\n",
    "df.sample(3)"
   ]
  },
  {
   "cell_type": "markdown",
   "metadata": {},
   "source": [
    "## show the count of different types of species"
   ]
  },
  {
   "cell_type": "code",
   "execution_count": null,
   "metadata": {},
   "outputs": [],
   "source": [
    "df.groupby(['species']).size()"
   ]
  },
  {
   "cell_type": "code",
   "execution_count": null,
   "metadata": {},
   "outputs": [],
   "source": [
    "sns.jointplot(x = 'petal_length',y = 'petal_width',data = df,kind = 'reg')"
   ]
  },
  {
   "cell_type": "markdown",
   "metadata": {},
   "source": [
    "### Replace the scatterplots and histograms with density estimates and align the marginal Axes tightly with the joint Axes"
   ]
  },
  {
   "cell_type": "code",
   "execution_count": null,
   "metadata": {
    "scrolled": true
   },
   "outputs": [],
   "source": [
    "g = sns.jointplot(\"sepal_width\", \"petal_length\", data=df,kind=\"kde\", space=0, color=\"b\")"
   ]
  },
  {
   "cell_type": "code",
   "execution_count": null,
   "metadata": {},
   "outputs": [],
   "source": [
    "#seaborn.PairGrid\n",
    "#Subplot grid for plotting pairwise relationships in a dataset.\n",
    "#This class maps each variable in a dataset onto a column and row in a grid of multiple axes. \n",
    "\n",
    "sns.pairplot(df)"
   ]
  },
  {
   "cell_type": "markdown",
   "metadata": {},
   "source": [
    "# markers : single matplotlib marker code or list, optional\n",
    "- '''\".\"point\n",
    "- \",\"   pixel\n",
    "- \"o\"   circle\n",
    "- \"v\"   triangle_down\n",
    "- \"^\"   triangle_up\n",
    "- \"<\"   triangle_left\n",
    "- \">\"   triangle_right\n",
    "- \"1\"   tri_down\n",
    "- \"2\"   tri_up\n",
    "- \"3\"   tri_left\n",
    "- \"4\"   tri_right\n",
    "- \"8\"   octagon\n",
    "- \"s\"   square\n",
    "- \"p\"   pentagon\n",
    "- \"P\"   plus (filled)\n",
    "- \"*\"   star\n",
    "- \"h\"   hexagon1\n",
    "- \"H\"   hexagon2\n",
    "- \"+\"   plus\n",
    "- \"x\"   x\n",
    "- \"X\"   x (filled)\n",
    "- \"D\"   diamond\n",
    "- \"d\"   thin_diamond\n",
    "- \"|\"   vline\n",
    "- \"_\"   hline\n",
    "- 0 (TICKLEFT)tickleft\n",
    "- 1 (TICKRIGHT)tickright\n",
    "- 2 (TICKUP)tickup\n",
    "- 3 (TICKDOWN)tickdown\n",
    "- 4 (CARETLEFT) caretleft\n",
    "- 5 (CARETRIGHT) caretright\n",
    "- 6 (CARETUP)  caretup\n",
    "- 7 (CARETDOWN) caretdown\n",
    "- 8 (CARETLEFTBASE) caretleft (centered at base)\n",
    "- 9 (CARETRIGHTBASE) (centered at base)\n",
    "- 10 (CARETUPBASE) (centered at base)\n",
    "- 11 (CARETDOWNBASE) (centered at base)'''\n"
   ]
  },
  {
   "cell_type": "code",
   "execution_count": null,
   "metadata": {},
   "outputs": [],
   "source": [
    "g = sns.pairplot(df, hue=\"species\", markers=[\"o\", \"s\", \"D\"])"
   ]
  },
  {
   "cell_type": "code",
   "execution_count": null,
   "metadata": {},
   "outputs": [],
   "source": [
    "#Plot a subset of variables:\n",
    "g = sns.pairplot(df,hue='species',vars=[\"sepal_width\", \"sepal_length\"],markers = ['D','s','o'])\n"
   ]
  },
  {
   "cell_type": "code",
   "execution_count": null,
   "metadata": {},
   "outputs": [],
   "source": [
    "#Draw larger plots\n",
    "#height : scalar, optionalHeight (in inches) of each facet\n",
    "g = sns.pairplot(df, height=3, vars=[\"sepal_width\", \"sepal_length\"])"
   ]
  },
  {
   "cell_type": "markdown",
   "metadata": {},
   "source": [
    "# Load Tips data set"
   ]
  },
  {
   "cell_type": "code",
   "execution_count": null,
   "metadata": {},
   "outputs": [],
   "source": [
    "#Draw a single horizontal violin plot\n",
    "tips = sns.load_dataset(\"tips\")\n",
    "ax = sns.violinplot(x=tips[\"total_bill\"])"
   ]
  },
  {
   "cell_type": "code",
   "execution_count": null,
   "metadata": {},
   "outputs": [],
   "source": [
    "#Draw a violinplot with nested grouping by two categorical variables\n",
    "ax = sns.violinplot(x=\"day\", y=\"total_bill\", hue=\"sex\",data=tips, palette=\"muted\")"
   ]
  },
  {
   "cell_type": "markdown",
   "metadata": {},
   "source": [
    "# Load Titanic data set "
   ]
  },
  {
   "cell_type": "code",
   "execution_count": null,
   "metadata": {},
   "outputs": [],
   "source": [
    "#seaborn.factorplot() ahs been renamed to  catplot()\n",
    "#row, col : names of variables in data, optional Categorical variables \n",
    "#that will determine the faceting of the grid\n",
    "#kind : {point, bar, count, box, violin, strip}The kind of plot to draw\n",
    "#legend : bool, optionalIf True and there is a hue variable, draw a legend on the plot.\n",
    "#legend_out : bool, optionalIf True, the figure size will be extended, \n",
    "#and the legend will be drawn outside the plot on the center right.\n",
    "# Import necessarily libraries\n",
    "titanic = sns.load_dataset(\"titanic\")\n",
    "# Set up a factorplot\n",
    "g = sns.factorplot(\"class\", \"survived\", \"sex\", data=titanic, kind=\"bar\",palette=\"muted\", legend=False)"
   ]
  },
  {
   "cell_type": "code",
   "execution_count": null,
   "metadata": {},
   "outputs": [],
   "source": []
  }
 ],
 "metadata": {
  "kernelspec": {
   "display_name": "Python 3",
   "language": "python",
   "name": "python3"
  },
  "language_info": {
   "codemirror_mode": {
    "name": "ipython",
    "version": 3
   },
   "file_extension": ".py",
   "mimetype": "text/x-python",
   "name": "python",
   "nbconvert_exporter": "python",
   "pygments_lexer": "ipython3",
   "version": "3.7.3"
  }
 },
 "nbformat": 4,
 "nbformat_minor": 2
}
