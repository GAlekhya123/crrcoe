{
 "cells": [
  {
   "cell_type": "markdown",
   "metadata": {},
   "source": [
    "# Time Series\n",
    "Time Series is a Series of data points indexed (or listed or graphed) in time order. Therefore the data, is organized by relatively deterministic timestamps, and may be compared to random sample data.\n",
    "\n",
    "Time series data is an important form of structured data in many different fields, such as finance, economics, ecology, neuroscience, and physics. Anything that is observed or measured at many points in time forms a time series.\n",
    "\n",
    "Time series analysis comprises methods for analyzing time series data in order to extract meaningful statistics and other characteristics of the data. Time series forecasting is the use of a model to predict future values based on previously observed values.\n",
    "\n",
    "While regression analysis is often employed in such a way as to test theories that the current values of one or more independent time series affect the current value of another time series.\n",
    "\n",
    "\n",
    "**How you mark and refer to time series data depends on the application, and you may have one of the following:**\n",
    "- Predicting Stock price or predicting the weather conditions for tomorrow,time-series has significant role to play.\n",
    "\n",
    "- Forecasting the birth rate at all hospitals in a city each year.\n",
    "* Forecasting product sales in units sold each day for a store.\n",
    "* Forecasting the number of passengers through a train station each day.\n"
   ]
  },
  {
   "cell_type": "code",
   "execution_count": 2,
   "metadata": {},
   "outputs": [],
   "source": [
    "from datetime import datetime"
   ]
  },
  {
   "cell_type": "markdown",
   "metadata": {},
   "source": [
    "### Collect present details "
   ]
  },
  {
   "cell_type": "code",
   "execution_count": 3,
   "metadata": {},
   "outputs": [
    {
     "data": {
      "text/plain": [
       "datetime.datetime(2019, 12, 18, 10, 13, 6, 655456)"
      ]
     },
     "execution_count": 3,
     "metadata": {},
     "output_type": "execute_result"
    }
   ],
   "source": [
    "a =datetime.now()\n",
    "a"
   ]
  },
  {
   "cell_type": "code",
   "execution_count": 4,
   "metadata": {},
   "outputs": [
    {
     "data": {
      "text/plain": [
       "2019"
      ]
     },
     "execution_count": 4,
     "metadata": {},
     "output_type": "execute_result"
    }
   ],
   "source": [
    "a.year"
   ]
  },
  {
   "cell_type": "code",
   "execution_count": 5,
   "metadata": {},
   "outputs": [
    {
     "data": {
      "text/plain": [
       "12"
      ]
     },
     "execution_count": 5,
     "metadata": {},
     "output_type": "execute_result"
    }
   ],
   "source": [
    "a.month"
   ]
  },
  {
   "cell_type": "code",
   "execution_count": 6,
   "metadata": {},
   "outputs": [
    {
     "name": "stdout",
     "output_type": "stream",
     "text": [
      "2019-12-18 10:13:09.833915\n",
      "Date now :18-12-2019\n",
      "Time now :10:13:9\n"
     ]
    }
   ],
   "source": [
    "#local date and time\n",
    "\n",
    "now = datetime.now()\n",
    "print(now)\n",
    "print('Date now :{}-{}-{}'.format(now.day, now.month, now.year))\n",
    "print('Time now :{}:{}:{}'.format(now.hour,now.minute, now.second))"
   ]
  },
  {
   "cell_type": "markdown",
   "metadata": {},
   "source": [
    "### Datetime stores both the date and time down to the microsecond. timedelta represents the temporal difference between two datetime objects:"
   ]
  },
  {
   "cell_type": "code",
   "execution_count": 7,
   "metadata": {},
   "outputs": [
    {
     "data": {
      "text/plain": [
       "datetime.timedelta(days=926, seconds=56700)"
      ]
     },
     "execution_count": 7,
     "metadata": {},
     "output_type": "execute_result"
    }
   ],
   "source": [
    "delta = datetime(2011, 1, 7) - datetime(2008, 6, 24, 8, 15)\n",
    "delta"
   ]
  },
  {
   "cell_type": "code",
   "execution_count": 8,
   "metadata": {},
   "outputs": [
    {
     "data": {
      "text/plain": [
       "56700"
      ]
     },
     "execution_count": 8,
     "metadata": {},
     "output_type": "execute_result"
    }
   ],
   "source": [
    "delta.seconds"
   ]
  },
  {
   "cell_type": "code",
   "execution_count": 9,
   "metadata": {},
   "outputs": [
    {
     "data": {
      "text/plain": [
       "80063100.0"
      ]
     },
     "execution_count": 9,
     "metadata": {},
     "output_type": "execute_result"
    }
   ],
   "source": [
    "delta.total_seconds()"
   ]
  },
  {
   "cell_type": "code",
   "execution_count": 10,
   "metadata": {},
   "outputs": [
    {
     "data": {
      "text/plain": [
       "datetime.datetime(2012, 12, 25, 0, 0)"
      ]
     },
     "execution_count": 10,
     "metadata": {},
     "output_type": "execute_result"
    }
   ],
   "source": [
    "# using timedelta\n",
    "from datetime import *\n",
    "datetime(2011,12,26) + timedelta(365)"
   ]
  },
  {
   "cell_type": "markdown",
   "metadata": {},
   "source": [
    "### Converting Between String and Datetime"
   ]
  },
  {
   "cell_type": "code",
   "execution_count": 11,
   "metadata": {},
   "outputs": [
    {
     "data": {
      "text/plain": [
       "datetime.datetime(2019, 12, 11, 0, 0)"
      ]
     },
     "execution_count": 11,
     "metadata": {},
     "output_type": "execute_result"
    }
   ],
   "source": [
    "value = '11 Dec 2019'\n",
    "datetime.strptime(value, '%d %b %Y')"
   ]
  },
  {
   "cell_type": "markdown",
   "metadata": {},
   "source": [
    "###  Datetime format specification (ISO C89 compatible)\n",
    "- %Y - 4-digit year\n",
    "- %y - 2-digit year\n",
    "- %m - 2-digit month [01, 12]\n",
    "- %d - 2-digit day [01, 31]\n",
    "- %H - Hour (24-hour clock) [00, 23]\n",
    "- %I - Hour (12-hour clock) [01, 12]\n",
    "- %M - 2-digit minute [00, 59]\n",
    "- %S - Second [00, 61] (seconds 60, 61 account for leap seconds)\n",
    "- %w - Weekday as integer [0 (Sunday), 6]\n",
    "- %U - Week number of the year [00, 53]. Sunday is considered the first day of the week, and days before the first Sunday of the year are “week 0”.\n",
    "- %W - Week number of the year [00, 53]. Monday is considered the first day of the week, and days before the first Monday of the year are “week 0”.\n",
    "- %z - UTC time zone offset as +HHMM or -HHMM, empty if time zone naive\n",
    "- %F - Shortcut for %Y-%m-%d, for example 2012-4-18\n",
    "- %D - Shortcut for %m/%d/%y, for example 04/18/12\n",
    "\n",
    "\n",
    "##  Locale-specific date formatting\n",
    "- %a -  Abbreviated weekday name\n",
    "- %A -  Full weekday name\n",
    "- %b -  Abbreviated month name\n",
    "- %B -  Full month name\n",
    "- %c -  Full date and time, for example ‘Tue 01 May 2012 04:20:57 PM’\n",
    "- %p -  Locale equivalent of AM or PM\n",
    "- %x -  Locale-appropriate formatted date; e.g. in US May 1, 2012 yields ’05/01/2012’\n",
    "- %X -  Locale-appropriate time, e.g. ’04:24:12 PM’"
   ]
  },
  {
   "cell_type": "code",
   "execution_count": 12,
   "metadata": {},
   "outputs": [
    {
     "ename": "SyntaxError",
     "evalue": "invalid syntax (<ipython-input-12-9c317a84ec2f>, line 2)",
     "output_type": "error",
     "traceback": [
      "\u001b[1;36m  File \u001b[1;32m\"<ipython-input-12-9c317a84ec2f>\"\u001b[1;36m, line \u001b[1;32m2\u001b[0m\n\u001b[1;33m    [datetime.strptime(x, ??) for x in datestrs]\u001b[0m\n\u001b[1;37m                          ^\u001b[0m\n\u001b[1;31mSyntaxError\u001b[0m\u001b[1;31m:\u001b[0m invalid syntax\n"
     ]
    }
   ],
   "source": [
    "datestrs = ['11 December 2019', '26 December 1993']\n",
    "[datetime.strptime(x, ??) for x in datestrs]"
   ]
  },
  {
   "cell_type": "code",
   "execution_count": 13,
   "metadata": {},
   "outputs": [
    {
     "data": {
      "text/plain": [
       "datetime.date(2019, 12, 18)"
      ]
     },
     "execution_count": 13,
     "metadata": {},
     "output_type": "execute_result"
    }
   ],
   "source": [
    "a= date.today()\n",
    "a"
   ]
  },
  {
   "cell_type": "code",
   "execution_count": 14,
   "metadata": {},
   "outputs": [
    {
     "data": {
      "text/plain": [
       "'18, Dec, 19'"
      ]
     },
     "execution_count": 14,
     "metadata": {},
     "output_type": "execute_result"
    }
   ],
   "source": [
    "a.strftime('%d, %b, %y')"
   ]
  },
  {
   "cell_type": "markdown",
   "metadata": {},
   "source": [
    "### A timestamp is a sequence of characters or encoded information identifying when a certain event occurred, usually giving date and time of day, sometimes accurate to a small fraction of a second."
   ]
  },
  {
   "cell_type": "code",
   "execution_count": 21,
   "metadata": {},
   "outputs": [
    {
     "name": "stdout",
     "output_type": "stream",
     "text": [
      "2019-12-18 10:13:36.384536\n",
      "timestamp = 1576644216.384536\n"
     ]
    }
   ],
   "source": [
    "now = datetime.now()\n",
    "print(now)\n",
    "timestamp = datetime.timestamp(now)\n",
    "print(\"timestamp =\", timestamp)"
   ]
  },
  {
   "cell_type": "code",
   "execution_count": 24,
   "metadata": {},
   "outputs": [
    {
     "data": {
      "text/plain": [
       "2000-01-01   -1.118242\n",
       "2000-01-02    0.410663\n",
       "2000-01-03   -1.642955\n",
       "2000-01-04   -0.519376\n",
       "2000-01-05    0.557613\n",
       "2000-01-06    0.435158\n",
       "2000-01-07   -0.541813\n",
       "2000-01-08    1.916182\n",
       "2000-01-09   -0.345773\n",
       "2000-01-10    0.074887\n",
       "2000-01-11    0.646875\n",
       "2000-01-12   -1.096882\n",
       "2000-01-13    0.072899\n",
       "2000-01-14   -1.135809\n",
       "2000-01-15   -1.393490\n",
       "2000-01-16   -0.189544\n",
       "2000-01-17   -0.498928\n",
       "2000-01-18    0.590682\n",
       "2000-01-19   -0.877933\n",
       "2000-01-20    1.808947\n",
       "2000-01-21   -0.260760\n",
       "2000-01-22    0.564391\n",
       "2000-01-23    0.602143\n",
       "2000-01-24   -0.663339\n",
       "2000-01-25   -0.360383\n",
       "2000-01-26    0.112230\n",
       "2000-01-27   -0.830975\n",
       "2000-01-28    0.579038\n",
       "2000-01-29   -0.595608\n",
       "2000-01-30   -0.332961\n",
       "                ...   \n",
       "2002-08-28    0.633742\n",
       "2002-08-29   -0.800753\n",
       "2002-08-30   -0.399548\n",
       "2002-08-31   -0.308724\n",
       "2002-09-01   -2.555190\n",
       "2002-09-02    0.533662\n",
       "2002-09-03   -0.963176\n",
       "2002-09-04   -0.595226\n",
       "2002-09-05   -0.221919\n",
       "2002-09-06    0.354225\n",
       "2002-09-07   -0.175217\n",
       "2002-09-08    0.217181\n",
       "2002-09-09   -0.588923\n",
       "2002-09-10   -1.429983\n",
       "2002-09-11   -0.057855\n",
       "2002-09-12    1.171594\n",
       "2002-09-13    0.766275\n",
       "2002-09-14    0.727018\n",
       "2002-09-15    1.675882\n",
       "2002-09-16    0.316533\n",
       "2002-09-17   -0.799230\n",
       "2002-09-18   -1.189607\n",
       "2002-09-19   -0.640516\n",
       "2002-09-20    1.233452\n",
       "2002-09-21   -0.134280\n",
       "2002-09-22   -1.299338\n",
       "2002-09-23    0.798754\n",
       "2002-09-24    0.937794\n",
       "2002-09-25   -0.246117\n",
       "2002-09-26    0.611709\n",
       "Freq: D, Length: 1000, dtype: float64"
      ]
     },
     "execution_count": 24,
     "metadata": {},
     "output_type": "execute_result"
    }
   ],
   "source": [
    "import pandas as pd\n",
    "import numpy as np\n",
    "longer_ts = pd.Series(np.random.randn(1000),index=pd.date_range('1/1/2000', periods=1000))\n",
    "longer_ts"
   ]
  },
  {
   "cell_type": "code",
   "execution_count": 25,
   "metadata": {},
   "outputs": [
    {
     "data": {
      "text/plain": [
       "2001-01-01    1.353583\n",
       "2001-01-02    1.923661\n",
       "2001-01-03    0.868495\n",
       "2001-01-04   -1.667144\n",
       "2001-01-05    0.792851\n",
       "2001-01-06   -1.632216\n",
       "2001-01-07    0.259555\n",
       "2001-01-08    0.281526\n",
       "2001-01-09    0.443559\n",
       "2001-01-10    1.103426\n",
       "2001-01-11    1.784181\n",
       "2001-01-12   -0.723310\n",
       "2001-01-13    0.056845\n",
       "2001-01-14    0.834121\n",
       "2001-01-15    1.552537\n",
       "2001-01-16   -0.496808\n",
       "2001-01-17    1.169164\n",
       "2001-01-18   -1.143599\n",
       "2001-01-19   -1.027363\n",
       "2001-01-20   -0.434815\n",
       "2001-01-21   -0.492782\n",
       "2001-01-22    2.193833\n",
       "2001-01-23   -1.918962\n",
       "2001-01-24   -0.458754\n",
       "2001-01-25    0.247345\n",
       "2001-01-26   -1.694531\n",
       "2001-01-27   -0.576474\n",
       "2001-01-28    1.126233\n",
       "2001-01-29   -0.737949\n",
       "2001-01-30   -0.153621\n",
       "                ...   \n",
       "2001-12-02   -0.255961\n",
       "2001-12-03   -0.359148\n",
       "2001-12-04   -0.442581\n",
       "2001-12-05    0.685437\n",
       "2001-12-06   -0.099773\n",
       "2001-12-07    1.812124\n",
       "2001-12-08    0.681855\n",
       "2001-12-09    1.429921\n",
       "2001-12-10    0.151150\n",
       "2001-12-11   -1.500778\n",
       "2001-12-12   -1.560255\n",
       "2001-12-13    0.773306\n",
       "2001-12-14   -0.124863\n",
       "2001-12-15   -2.355283\n",
       "2001-12-16    0.520945\n",
       "2001-12-17   -0.338181\n",
       "2001-12-18   -1.504735\n",
       "2001-12-19   -0.197567\n",
       "2001-12-20   -1.675854\n",
       "2001-12-21    0.573150\n",
       "2001-12-22   -0.393758\n",
       "2001-12-23   -0.664732\n",
       "2001-12-24   -0.130586\n",
       "2001-12-25    0.755361\n",
       "2001-12-26    0.630029\n",
       "2001-12-27    0.594659\n",
       "2001-12-28    0.675764\n",
       "2001-12-29    0.753263\n",
       "2001-12-30    0.740192\n",
       "2001-12-31   -0.622533\n",
       "Freq: D, Length: 365, dtype: float64"
      ]
     },
     "execution_count": 25,
     "metadata": {},
     "output_type": "execute_result"
    }
   ],
   "source": [
    "longer_ts['2001']"
   ]
  },
  {
   "cell_type": "code",
   "execution_count": 26,
   "metadata": {},
   "outputs": [
    {
     "data": {
      "text/plain": [
       "2001-05-01    1.459842\n",
       "2001-05-02    2.173111\n",
       "2001-05-03   -1.393846\n",
       "2001-05-04   -0.112064\n",
       "2001-05-05    1.375881\n",
       "2001-05-06   -2.396105\n",
       "2001-05-07    0.795145\n",
       "2001-05-08   -0.878359\n",
       "2001-05-09    2.177837\n",
       "2001-05-10   -0.788169\n",
       "2001-05-11    0.617141\n",
       "2001-05-12    0.923820\n",
       "2001-05-13   -0.618347\n",
       "2001-05-14    0.537194\n",
       "2001-05-15    1.276566\n",
       "2001-05-16   -0.853704\n",
       "2001-05-17    2.414262\n",
       "2001-05-18    1.338042\n",
       "2001-05-19   -0.098758\n",
       "2001-05-20    0.087756\n",
       "2001-05-21   -1.207602\n",
       "2001-05-22   -0.250508\n",
       "2001-05-23    1.780747\n",
       "2001-05-24   -1.369315\n",
       "2001-05-25   -0.468888\n",
       "2001-05-26   -0.598980\n",
       "2001-05-27   -1.167851\n",
       "2001-05-28   -1.166517\n",
       "2001-05-29    1.063617\n",
       "2001-05-30    1.247258\n",
       "2001-05-31   -0.683637\n",
       "Freq: D, dtype: float64"
      ]
     },
     "execution_count": 26,
     "metadata": {},
     "output_type": "execute_result"
    }
   ],
   "source": [
    "longer_ts['2001-05']"
   ]
  },
  {
   "cell_type": "code",
   "execution_count": 27,
   "metadata": {},
   "outputs": [
    {
     "ename": "NameError",
     "evalue": "name 'ts' is not defined",
     "output_type": "error",
     "traceback": [
      "\u001b[1;31m---------------------------------------------------------------------------\u001b[0m",
      "\u001b[1;31mNameError\u001b[0m                                 Traceback (most recent call last)",
      "\u001b[1;32m<ipython-input-27-cc78c5b5e90f>\u001b[0m in \u001b[0;36m<module>\u001b[1;34m\u001b[0m\n\u001b[1;32m----> 1\u001b[1;33m \u001b[0mts\u001b[0m\u001b[1;33m[\u001b[0m\u001b[0mdatetime\u001b[0m\u001b[1;33m(\u001b[0m\u001b[1;36m2011\u001b[0m\u001b[1;33m,\u001b[0m \u001b[1;36m1\u001b[0m\u001b[1;33m,\u001b[0m \u001b[1;36m7\u001b[0m\u001b[1;33m)\u001b[0m\u001b[1;33m:\u001b[0m\u001b[1;33m]\u001b[0m\u001b[1;33m\u001b[0m\u001b[1;33m\u001b[0m\u001b[0m\n\u001b[0m",
      "\u001b[1;31mNameError\u001b[0m: name 'ts' is not defined"
     ]
    }
   ],
   "source": [
    "ts[datetime(2011, 1, 7):]"
   ]
  },
  {
   "cell_type": "code",
   "execution_count": null,
   "metadata": {},
   "outputs": [],
   "source": []
  },
  {
   "cell_type": "code",
   "execution_count": null,
   "metadata": {},
   "outputs": [],
   "source": []
  }
 ],
 "metadata": {
  "kernelspec": {
   "display_name": "Python 3",
   "language": "python",
   "name": "python3"
  },
  "language_info": {
   "codemirror_mode": {
    "name": "ipython",
    "version": 3
   },
   "file_extension": ".py",
   "mimetype": "text/x-python",
   "name": "python",
   "nbconvert_exporter": "python",
   "pygments_lexer": "ipython3",
   "version": "3.7.3"
  }
 },
 "nbformat": 4,
 "nbformat_minor": 2
}
