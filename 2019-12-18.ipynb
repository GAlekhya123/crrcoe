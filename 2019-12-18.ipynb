{
 "cells": [
  {
   "attachments": {},
   "cell_type": "markdown",
   "metadata": {},
   "source": [
    "# Time Series\n",
    "Time Series is a Series of data points indexed (or listed or graphed) in time order. Therefore the data, is organized by relatively deterministic timestamps, and may be compared to random sample data.\n",
    "\n",
    "Time series data is an important form of structured data in many different fields, such as finance, economics, ecology, neuroscience, and physics. Anything that is observed or measured at many points in time forms a time series.\n",
    "\n",
    "Time series analysis comprises methods for analyzing time series data in order to extract meaningful statistics and other characteristics of the data. Time series forecasting is the use of a model to predict future values based on previously observed values.\n",
    "\n",
    "While regression analysis is often employed in such a way as to test theories that the current values of one or more independent time series affect the current value of another time series.\n",
    "\n",
    "\n",
    "**How you mark and refer to time series data depends on the application, and you may have one of the following:**\n",
    "- Predicting Stock price or predicting the weather conditions for tomorrow,time-series has significant role to play.\n",
    "\n",
    "- Forecasting the birth rate at all hospitals in a city each year.\n",
    "* Forecasting product sales in units sold each day for a store.\n",
    "* Forecasting the number of passengers through a train station each day.\n"
   ]
  },
  {
   "cell_type": "code",
   "execution_count": 5,
   "metadata": {},
   "outputs": [],
   "source": [
    "from datetime import datetime"
   ]
  },
  {
   "cell_type": "code",
   "execution_count": 6,
   "metadata": {},
   "outputs": [
    {
     "data": {
      "text/plain": [
       "datetime.datetime(2019, 12, 17, 15, 12, 46, 231174)"
      ]
     },
     "execution_count": 6,
     "metadata": {},
     "output_type": "execute_result"
    }
   ],
   "source": [
    "# Collect present \n",
    "a=datetime.now()\n",
    "a"
   ]
  },
  {
   "cell_type": "code",
   "execution_count": 7,
   "metadata": {},
   "outputs": [
    {
     "data": {
      "text/plain": [
       "2019"
      ]
     },
     "execution_count": 7,
     "metadata": {},
     "output_type": "execute_result"
    }
   ],
   "source": [
    "a.year"
   ]
  },
  {
   "cell_type": "code",
   "execution_count": 8,
   "metadata": {},
   "outputs": [
    {
     "data": {
      "text/plain": [
       "12"
      ]
     },
     "execution_count": 8,
     "metadata": {},
     "output_type": "execute_result"
    }
   ],
   "source": [
    "a.month"
   ]
  },
  {
   "cell_type": "code",
   "execution_count": 12,
   "metadata": {},
   "outputs": [
    {
     "name": "stdout",
     "output_type": "stream",
     "text": [
      "2019-12-17 15:24:20.577869\n",
      "Date now :17-12-2019\n",
      "Time now :15:24:20\n"
     ]
    }
   ],
   "source": [
    "#local date and time\n",
    "\n",
    "now = datetime.now()\n",
    "print(now)\n",
    "print('Date now :{}-{}-{}'.format(now.day, now.month, now.year))\n",
    "print('Time now :{}:{}:{}'.format(now.hour,now.minute, now.second))"
   ]
  },
  {
   "attachments": {},
   "cell_type": "markdown",
   "metadata": {},
   "source": [
    "### Datetime stores both the date and time down to the microsecond. timedelta represents the temporal difference between two datetime objects:"
   ]
  },
  {
   "cell_type": "code",
   "execution_count": 14,
   "metadata": {},
   "outputs": [
    {
     "data": {
      "text/plain": [
       "datetime.timedelta(days=926, seconds=56700)"
      ]
     },
     "execution_count": 14,
     "metadata": {},
     "output_type": "execute_result"
    }
   ],
   "source": [
    "delta = datetime(2011, 1, 7) - datetime(2008, 6, 24, 8, 15)\n",
    "delta"
   ]
  },
  {
   "cell_type": "code",
   "execution_count": 15,
   "metadata": {},
   "outputs": [
    {
     "data": {
      "text/plain": [
       "56700"
      ]
     },
     "execution_count": 15,
     "metadata": {},
     "output_type": "execute_result"
    }
   ],
   "source": [
    "delta.seconds"
   ]
  },
  {
   "cell_type": "code",
   "execution_count": 16,
   "metadata": {},
   "outputs": [
    {
     "data": {
      "text/plain": [
       "80063100.0"
      ]
     },
     "execution_count": 16,
     "metadata": {},
     "output_type": "execute_result"
    }
   ],
   "source": [
    "delta.total_seconds()"
   ]
  },
  {
   "cell_type": "code",
   "execution_count": 45,
   "metadata": {},
   "outputs": [
    {
     "data": {
      "text/plain": [
       "datetime.datetime(2012, 12, 25, 0, 0)"
      ]
     },
     "execution_count": 45,
     "metadata": {},
     "output_type": "execute_result"
    }
   ],
   "source": [
    "# using timedelta\n",
    "from datetime import *\n",
    "datetime(2011,12,26) + timedelta(365)"
   ]
  },
  {
   "attachments": {},
   "cell_type": "markdown",
   "metadata": {},
   "source": [
    "### Converting Between String and Datetime"
   ]
  },
  {
   "cell_type": "code",
   "execution_count": 51,
   "metadata": {},
   "outputs": [
    {
     "data": {
      "text/plain": [
       "datetime.datetime(2019, 12, 11, 0, 0)"
      ]
     },
     "execution_count": 51,
     "metadata": {},
     "output_type": "execute_result"
    }
   ],
   "source": [
    "value = '11 Dec 2019'\n",
    "datetime.strptime(value, '%d %b %Y')"
   ]
  },
  {
   "cell_type": "markdown",
   "metadata": {},
   "source": [
    "###  Datetime format specification (ISO C89 compatible)\n",
    "- %Y - 4-digit year\n",
    "- %y - 2-digit year\n",
    "- %m - 2-digit month [01, 12]\n",
    "- %d - 2-digit day [01, 31]\n",
    "- %H - Hour (24-hour clock) [00, 23]\n",
    "- %I - Hour (12-hour clock) [01, 12]\n",
    "- %M - 2-digit minute [00, 59]\n",
    "- %S - Second [00, 61] (seconds 60, 61 account for leap seconds)\n",
    "- %w - Weekday as integer [0 (Sunday), 6]\n",
    "- %U - Week number of the year [00, 53]. Sunday is considered the first day of the week, and days before the first Sunday of the year are “week 0”.\n",
    "- %W - Week number of the year [00, 53]. Monday is considered the first day of the week, and days before the first Monday of the year are “week 0”.\n",
    "- %z - UTC time zone offset as +HHMM or -HHMM, empty if time zone naive\n",
    "- %F - Shortcut for %Y-%m-%d, for example 2012-4-18\n",
    "- %D - Shortcut for %m/%d/%y, for example 04/18/12\n",
    "\n",
    "\n",
    "##  Locale-specific date formatting\n",
    "- %a -  Abbreviated weekday name\n",
    "- %A -  Full weekday name\n",
    "- %b -  Abbreviated month name\n",
    "- %B -  Full month name\n",
    "- %c -  Full date and time, for example ‘Tue 01 May 2012 04:20:57 PM’\n",
    "- %p -  Locale equivalent of AM or PM\n",
    "- %x -  Locale-appropriate formatted date; e.g. in US May 1, 2012 yields ’05/01/2012’\n",
    "- %X -  Locale-appropriate time, e.g. ’04:24:12 PM’"
   ]
  },
  {
   "cell_type": "code",
   "execution_count": 53,
   "metadata": {
    "collapsed": true
   },
   "outputs": [
    {
     "ename": "SyntaxError",
     "evalue": "invalid syntax (<ipython-input-53-9c317a84ec2f>, line 2)",
     "output_type": "error",
     "traceback": [
      "\u001b[1;36m  File \u001b[1;32m\"<ipython-input-53-9c317a84ec2f>\"\u001b[1;36m, line \u001b[1;32m2\u001b[0m\n\u001b[1;33m    [datetime.strptime(x, ??) for x in datestrs]\u001b[0m\n\u001b[1;37m                          ^\u001b[0m\n\u001b[1;31mSyntaxError\u001b[0m\u001b[1;31m:\u001b[0m invalid syntax\n"
     ]
    }
   ],
   "source": [
    "datestrs = ['11 December 2019', '26 December 1993']\n",
    "[datetime.strptime(x, ??) for x in datestrs]"
   ]
  },
  {
   "cell_type": "code",
   "execution_count": 55,
   "metadata": {},
   "outputs": [
    {
     "data": {
      "text/plain": [
       "datetime.date(2019, 12, 17)"
      ]
     },
     "execution_count": 55,
     "metadata": {},
     "output_type": "execute_result"
    }
   ],
   "source": [
    "a= date.today()\n",
    "a"
   ]
  },
  {
   "cell_type": "code",
   "execution_count": 56,
   "metadata": {},
   "outputs": [
    {
     "data": {
      "text/plain": [
       "'17, Dec, 19'"
      ]
     },
     "execution_count": 56,
     "metadata": {},
     "output_type": "execute_result"
    }
   ],
   "source": [
    "a.strftime('%d, %b, %y')"
   ]
  },
  {
   "cell_type": "code",
   "execution_count": null,
   "metadata": {},
   "outputs": [],
   "source": [
    "dates = [datetime(2011, 1, 2), datetime(2011, 1, 5),datetime(2011, 1, 7),\n",
    "         datetime(2011, 1, 8),datetime(2011, 1, 10), datetime(2011, 1, 12)]\n"
   ]
  }
 ],
 "metadata": {
  "kernelspec": {
   "display_name": "Python 3",
   "language": "python",
   "name": "python3"
  },
  "language_info": {
   "codemirror_mode": {
    "name": "ipython",
    "version": 3
   },
   "file_extension": ".py",
   "mimetype": "text/x-python",
   "name": "python",
   "nbconvert_exporter": "python",
   "pygments_lexer": "ipython3",
   "version": "3.7.3"
  }
 },
 "nbformat": 4,
 "nbformat_minor": 2
}
