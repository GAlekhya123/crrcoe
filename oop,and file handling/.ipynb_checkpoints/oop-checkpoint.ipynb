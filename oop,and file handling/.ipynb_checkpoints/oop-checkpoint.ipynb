{
 "cells": [
  {
   "cell_type": "markdown",
   "metadata": {},
   "source": [
    "## Introduction to OOPs in Python\n",
    "Python is a multi-paradigm programming language. Means it supports functional programming,it supports object-oriented programming and it also works with procedure oriented programming.\n",
    "\n",
    "#### procedure oriented programming: \n",
    "simply consist of a series of computational steps to be carried out. During a program’s execution, any given procedure might be called at any point, including by other procedures or itself.\n",
    "\n",
    "### Object-Oriented Programming:\n",
    "- **Object** : is the physical entity representing the memory\n",
    "- **attributes** : nothing but variables\n",
    "- **behavior** : methods\n",
    "- **Class**: A class is a logical entity contains  logic of the application.class is blueprint for the object (it decides object creation)\n",
    "\n",
    "## Define a Class:"
   ]
  },
  {
   "cell_type": "code",
   "execution_count": 2,
   "metadata": {},
   "outputs": [],
   "source": [
    "class myclass1:\n",
    "    pass"
   ]
  },
  {
   "cell_type": "code",
   "execution_count": 4,
   "metadata": {},
   "outputs": [],
   "source": [
    "class myclass2():\n",
    "    pass\n",
    "class myclass3(object):\n",
    "    pass"
   ]
  },
  {
   "cell_type": "markdown",
   "metadata": {},
   "source": [
    "In python 3.X class is child class of a Object, where as python 2.Xclass is not a child class of object."
   ]
  },
  {
   "cell_type": "code",
   "execution_count": 5,
   "metadata": {},
   "outputs": [
    {
     "name": "stdout",
     "output_type": "stream",
     "text": [
      "True\n",
      "True\n",
      "True\n"
     ]
    }
   ],
   "source": [
    "print(issubclass(myclass1,object))\n",
    "print(issubclass(myclass2,object))\n",
    "print(issubclass(myclass3,object))"
   ]
  },
  {
   "cell_type": "markdown",
   "metadata": {},
   "source": [
    "### declairing the function inciside the class\n",
    " - to represent this function is belongs to class we need to mention **self** and it is mendetory"
   ]
  },
  {
   "cell_type": "code",
   "execution_count": 7,
   "metadata": {},
   "outputs": [],
   "source": [
    "class Myclass:\n",
    "    def disp1(self): \n",
    "        print(\"hi\")\n",
    "    def disp2(self,name):\n",
    "        print(\"good morning\", name)"
   ]
  },
  {
   "cell_type": "code",
   "execution_count": 8,
   "metadata": {},
   "outputs": [
    {
     "name": "stdout",
     "output_type": "stream",
     "text": [
      "hi\n"
     ]
    }
   ],
   "source": [
    "a = Myclass()\n",
    "a.disp1()"
   ]
  },
  {
   "cell_type": "code",
   "execution_count": 10,
   "metadata": {},
   "outputs": [
    {
     "name": "stdout",
     "output_type": "stream",
     "text": [
      "good morning crrcoe\n"
     ]
    }
   ],
   "source": [
    "a.disp2('crrcoe')"
   ]
  },
  {
   "cell_type": "markdown",
   "metadata": {},
   "source": [
    "## Declairing the variable inside the class\n",
    "- to represent class variable always use **self** key word"
   ]
  },
  {
   "cell_type": "code",
   "execution_count": 12,
   "metadata": {},
   "outputs": [
    {
     "data": {
      "text/plain": [
       "112"
      ]
     },
     "execution_count": 12,
     "metadata": {},
     "output_type": "execute_result"
    }
   ],
   "source": [
    "class MyClassart():\n",
    "    a = 23\n",
    "    b = 89\n",
    "    def add(self):\n",
    "        return self.a+self.b\n",
    "    def mul(self):\n",
    "        return self.a*self.b\n",
    "art = MyClassart()\n",
    "art.add()"
   ]
  },
  {
   "cell_type": "code",
   "execution_count": 13,
   "metadata": {},
   "outputs": [
    {
     "data": {
      "text/plain": [
       "2047"
      ]
     },
     "execution_count": 13,
     "metadata": {},
     "output_type": "execute_result"
    }
   ],
   "source": [
    "art.mul()"
   ]
  },
  {
   "cell_type": "markdown",
   "metadata": {},
   "source": [
    "## local , class and global variable"
   ]
  },
  {
   "cell_type": "code",
   "execution_count": 18,
   "metadata": {},
   "outputs": [
    {
     "name": "stdout",
     "output_type": "stream",
     "text": [
      "9 1\n",
      "2 4\n",
      "10 20\n"
     ]
    }
   ],
   "source": [
    "i,j = 10,20 # global variable\n",
    "class MyClassVars():\n",
    "    a = 2\n",
    "    b = 4     # Class variable\n",
    "    def add(self,x,y): # loacl variable\n",
    "        print(x,y)\n",
    "        print(self.a,self.b)\n",
    "        print(i,j)\n",
    "obj = MyClassVars()\n",
    "obj.add(9,1)"
   ]
  },
  {
   "cell_type": "markdown",
   "metadata": {},
   "source": [
    "## local , class and global variable with same names\n",
    "we need to use globals()['varname']"
   ]
  },
  {
   "cell_type": "code",
   "execution_count": 21,
   "metadata": {},
   "outputs": [
    {
     "name": "stdout",
     "output_type": "stream",
     "text": [
      "9 1 10\n",
      "2 4 6\n",
      "10 20 30\n"
     ]
    }
   ],
   "source": [
    "a,b = 10,20 # global variable\n",
    "class MyClassVars():\n",
    "    a = 2\n",
    "    b = 4     # Class variable\n",
    "    def add(self,a,b): # loacl variable\n",
    "        print(a,b, a+b)\n",
    "        print(self.a,self.b,self.a+self.b)\n",
    "        print(globals()['a'],globals()['b'],globals()['a']+globals()['b'])\n",
    "obj = MyClassVars()\n",
    "obj.add(9,1)"
   ]
  },
  {
   "cell_type": "markdown",
   "metadata": {},
   "source": [
    "### named object and name less object\n",
    "named object has reference variable\n",
    "\n",
    "name less object doesn't refer any variable\n",
    "\n",
    "Note : each object has different memorys"
   ]
  },
  {
   "cell_type": "code",
   "execution_count": 22,
   "metadata": {},
   "outputs": [],
   "source": [
    "class Myclass4():\n",
    "    def disp4(self):\n",
    "        print(\"hello\")\n",
    "obj4 = Myclass4()"
   ]
  },
  {
   "cell_type": "code",
   "execution_count": 23,
   "metadata": {},
   "outputs": [
    {
     "name": "stdout",
     "output_type": "stream",
     "text": [
      "hello\n"
     ]
    }
   ],
   "source": [
    "obj4.disp4()"
   ]
  },
  {
   "cell_type": "code",
   "execution_count": 25,
   "metadata": {},
   "outputs": [
    {
     "name": "stdout",
     "output_type": "stream",
     "text": [
      "hello\n"
     ]
    }
   ],
   "source": [
    "Myclass4().disp4()"
   ]
  },
  {
   "cell_type": "markdown",
   "metadata": {},
   "source": [
    "## instance and static method"
   ]
  },
  {
   "cell_type": "code",
   "execution_count": 41,
   "metadata": {},
   "outputs": [],
   "source": [
    "class MyClass5():\n",
    "    def m1(self):\n",
    "        print(\"instance method\")\n",
    "    @staticmethod\n",
    "    def m2():\n",
    "        print(\"static method\")"
   ]
  },
  {
   "cell_type": "code",
   "execution_count": 42,
   "metadata": {},
   "outputs": [
    {
     "name": "stdout",
     "output_type": "stream",
     "text": [
      "instance method\n"
     ]
    }
   ],
   "source": [
    "obj5 = MyClass5()\n",
    "obj5.m1()"
   ]
  },
  {
   "cell_type": "code",
   "execution_count": 45,
   "metadata": {},
   "outputs": [
    {
     "name": "stdout",
     "output_type": "stream",
     "text": [
      "static method\n"
     ]
    }
   ],
   "source": [
    "obj5.m2()"
   ]
  },
  {
   "cell_type": "markdown",
   "metadata": {},
   "source": [
    "# Constructor \n",
    "Constuctor methods are automatically executed when we are creating objects"
   ]
  },
  {
   "cell_type": "code",
   "execution_count": null,
   "metadata": {},
   "outputs": [],
   "source": [
    "class conclass():\n",
    "    def __int__(self):\n",
    "        "
   ]
  }
 ],
 "metadata": {
  "kernelspec": {
   "display_name": "Python 3",
   "language": "python",
   "name": "python3"
  },
  "language_info": {
   "codemirror_mode": {
    "name": "ipython",
    "version": 3
   },
   "file_extension": ".py",
   "mimetype": "text/x-python",
   "name": "python",
   "nbconvert_exporter": "python",
   "pygments_lexer": "ipython3",
   "version": "3.7.3"
  }
 },
 "nbformat": 4,
 "nbformat_minor": 2
}
