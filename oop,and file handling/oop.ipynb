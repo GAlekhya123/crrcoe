{
 "cells": [
  {
   "cell_type": "markdown",
   "metadata": {},
   "source": [
    "## Introduction to OOPs in Python\n",
    "Python is a multi-paradigm programming language. Means it supports functional programming,it supports object-oriented programming and it also works with procedure oriented programming.\n",
    "\n",
    "#### procedure oriented programming: \n",
    "simply consist of a series of computational steps to be carried out. During a program’s execution, any given procedure might be called at any point, including by other procedures or itself.\n",
    "\n",
    "### Object-Oriented Programming:\n",
    "- **Object** : is the physical entity representing the memory\n",
    "- **attributes** : nothing but variables\n",
    "- **behavior** : methods\n",
    "- **Class**: A class is a logical entity contains  logic of the application.class is blueprint for the object (it decides object creation)\n",
    "\n",
    "## Define a Class:"
   ]
  },
  {
   "cell_type": "code",
   "execution_count": 3,
   "metadata": {},
   "outputs": [],
   "source": [
    "class myclass1:\n",
    "    pass"
   ]
  },
  {
   "cell_type": "code",
   "execution_count": 4,
   "metadata": {},
   "outputs": [],
   "source": [
    "class myclass2():\n",
    "    pass\n",
    "class myclass3(object):\n",
    "    pass"
   ]
  },
  {
   "cell_type": "markdown",
   "metadata": {},
   "source": [
    "In python 3.X class is child class of a Object, where as python 2.Xclass is not a child class of object."
   ]
  },
  {
   "cell_type": "code",
   "execution_count": 5,
   "metadata": {},
   "outputs": [
    {
     "name": "stdout",
     "output_type": "stream",
     "text": [
      "True\n",
      "True\n",
      "True\n"
     ]
    }
   ],
   "source": [
    "print(issubclass(myclass1,object))\n",
    "print(issubclass(myclass2,object))\n",
    "print(issubclass(myclass3,object))"
   ]
  },
  {
   "cell_type": "markdown",
   "metadata": {},
   "source": [
    "### declairing the function inciside the class\n",
    " - to represent this function is belongs to class we need to mention **self** and it is mendetory"
   ]
  },
  {
   "cell_type": "code",
   "execution_count": 12,
   "metadata": {},
   "outputs": [],
   "source": [
    "class Myclass:\n",
    "    def disp1(self): \n",
    "        print(\"hi\")\n",
    "    def disp2(self,name):\n",
    "        print(\"good morning\", name)"
   ]
  },
  {
   "cell_type": "code",
   "execution_count": 13,
   "metadata": {},
   "outputs": [
    {
     "name": "stdout",
     "output_type": "stream",
     "text": [
      "hi\n"
     ]
    }
   ],
   "source": [
    "a = Myclass()\n",
    "a.disp1()"
   ]
  },
  {
   "cell_type": "code",
   "execution_count": 14,
   "metadata": {},
   "outputs": [
    {
     "name": "stdout",
     "output_type": "stream",
     "text": [
      "good morning crrcoe\n"
     ]
    }
   ],
   "source": [
    "a.disp2('crrcoe')"
   ]
  },
  {
   "cell_type": "markdown",
   "metadata": {},
   "source": [
    "## Declairing the variable inside the class\n",
    "- to represent class variable always use **self** key word"
   ]
  },
  {
   "cell_type": "code",
   "execution_count": 17,
   "metadata": {},
   "outputs": [
    {
     "data": {
      "text/plain": [
       "112"
      ]
     },
     "execution_count": 17,
     "metadata": {},
     "output_type": "execute_result"
    }
   ],
   "source": [
    "class MyClassart():\n",
    "    a = 23\n",
    "    b = 89\n",
    "    def add(self):\n",
    "        return self.a+self.b\n",
    "    def mul(self):\n",
    "        return self.a*self.b\n",
    "art = MyClassart()\n",
    "art.add()"
   ]
  },
  {
   "cell_type": "code",
   "execution_count": 18,
   "metadata": {},
   "outputs": [
    {
     "data": {
      "text/plain": [
       "2047"
      ]
     },
     "execution_count": 18,
     "metadata": {},
     "output_type": "execute_result"
    }
   ],
   "source": [
    "art.mul()"
   ]
  },
  {
   "cell_type": "markdown",
   "metadata": {},
   "source": [
    "## local , class and global variable"
   ]
  },
  {
   "cell_type": "code",
   "execution_count": 19,
   "metadata": {},
   "outputs": [
    {
     "name": "stdout",
     "output_type": "stream",
     "text": [
      "9 1\n",
      "2 4\n",
      "10 20\n"
     ]
    }
   ],
   "source": [
    "i,j = 10,20 # global variable\n",
    "class MyClassVars():\n",
    "    a = 2\n",
    "    b = 4     # Class variable\n",
    "    def add(self,x,y): # loacl variable\n",
    "        print(x,y)\n",
    "        print(self.a,self.b)\n",
    "        print(i,j)\n",
    "obj = MyClassVars()\n",
    "obj.add(9,1)"
   ]
  },
  {
   "cell_type": "markdown",
   "metadata": {},
   "source": [
    "## local , class and global variable with same names\n",
    "we need to use globals()['varname']"
   ]
  },
  {
   "cell_type": "code",
   "execution_count": 20,
   "metadata": {},
   "outputs": [
    {
     "name": "stdout",
     "output_type": "stream",
     "text": [
      "9 1 10\n",
      "2 4 6\n",
      "10 20 30\n"
     ]
    }
   ],
   "source": [
    "a,b = 10,20 # global variable\n",
    "class MyClassVars():\n",
    "    a = 2\n",
    "    b = 4     # Class variable\n",
    "    def add(self,a,b): # loacl variable\n",
    "        print(a,b, a+b)\n",
    "        print(self.a,self.b,self.a+self.b)\n",
    "        print(globals()['a'],globals()['b'],globals()['a']+globals()['b'])\n",
    "obj = MyClassVars()\n",
    "obj.add(9,1)"
   ]
  },
  {
   "cell_type": "markdown",
   "metadata": {},
   "source": [
    "### named object and name less object\n",
    "named object has reference variable\n",
    "\n",
    "name less object doesn't refer any variable\n",
    "\n",
    "Note : each object has different memorys"
   ]
  },
  {
   "cell_type": "code",
   "execution_count": null,
   "metadata": {},
   "outputs": [],
   "source": [
    "class Myclass4():\n",
    "    def disp4(self):\n",
    "        print(\"hello\")\n",
    "obj4 = Myclass4()"
   ]
  },
  {
   "cell_type": "code",
   "execution_count": null,
   "metadata": {},
   "outputs": [],
   "source": [
    "obj4.disp4()"
   ]
  },
  {
   "cell_type": "code",
   "execution_count": null,
   "metadata": {},
   "outputs": [],
   "source": [
    "Myclass4().disp4()"
   ]
  },
  {
   "cell_type": "markdown",
   "metadata": {},
   "source": [
    "## instance and static method"
   ]
  },
  {
   "cell_type": "code",
   "execution_count": null,
   "metadata": {},
   "outputs": [],
   "source": [
    "class MyClass5():\n",
    "    def m1(self):\n",
    "        print(\"instance method\")\n",
    "    @staticmethod\n",
    "    def m2():\n",
    "        print(\"static method\")"
   ]
  },
  {
   "cell_type": "code",
   "execution_count": null,
   "metadata": {},
   "outputs": [],
   "source": [
    "obj5 = MyClass5()\n",
    "obj5.m1()"
   ]
  },
  {
   "cell_type": "code",
   "execution_count": null,
   "metadata": {},
   "outputs": [],
   "source": [
    "obj5.m2()"
   ]
  },
  {
   "cell_type": "markdown",
   "metadata": {},
   "source": [
    "# Constructor \n",
    "Constuctor methods are automatically executed when we are creating objects"
   ]
  },
  {
   "cell_type": "code",
   "execution_count": null,
   "metadata": {},
   "outputs": [],
   "source": [
    "class ConClass():\n",
    "    def __init__(self):\n",
    "        print(\"constructor\")\n",
    "    def mymethod(self):\n",
    "        print(\"method\")\n",
    "c = ConClass()\n",
    "c.mymethod()"
   ]
  },
  {
   "cell_type": "markdown",
   "metadata": {},
   "source": [
    "#### callling current class methods"
   ]
  },
  {
   "cell_type": "code",
   "execution_count": null,
   "metadata": {},
   "outputs": [],
   "source": [
    "class CallCurrentClassMethods:\n",
    "    def method1(self):\n",
    "        print('method1')\n",
    "        self.method2(12)\n",
    "    def method2(self,a):\n",
    "        print('method2',a)\n",
    "        \n",
    "        \n",
    "obj6 = CallCurrentClassMethods()\n",
    "obj6.method1()"
   ]
  },
  {
   "cell_type": "markdown",
   "metadata": {},
   "source": [
    "## `__str__`\n",
    "Called by the str() built-in function and by the print statement to compute the ``informal`` string representation of an object. This differs from __repr__() in that it does not have to be a valid Python expression"
   ]
  },
  {
   "cell_type": "code",
   "execution_count": null,
   "metadata": {},
   "outputs": [],
   "source": [
    "class ClassStr():\n",
    "    def __str__(self):\n",
    "        return \"it is only prints string data\""
   ]
  },
  {
   "cell_type": "code",
   "execution_count": null,
   "metadata": {},
   "outputs": [],
   "source": [
    "obj7 = ClassStr()\n",
    "print(obj7)"
   ]
  },
  {
   "cell_type": "markdown",
   "metadata": {},
   "source": [
    "## `__del__` \n",
    "destructor, Called when the instance is about to be destroyed."
   ]
  },
  {
   "cell_type": "code",
   "execution_count": null,
   "metadata": {},
   "outputs": [],
   "source": [
    "class ClassDel:\n",
    "    pass\n",
    "c1 = ClassDel()\n",
    "c2 = ClassDel()"
   ]
  },
  {
   "cell_type": "code",
   "execution_count": null,
   "metadata": {},
   "outputs": [],
   "source": [
    "del c1"
   ]
  },
  {
   "cell_type": "code",
   "execution_count": null,
   "metadata": {},
   "outputs": [],
   "source": [
    "del c2"
   ]
  },
  {
   "cell_type": "code",
   "execution_count": null,
   "metadata": {},
   "outputs": [],
   "source": [
    "class ClassDel:\n",
    "    def __del__(self):\n",
    "        print('distroyed..')\n",
    "c1 = ClassDel()\n",
    "c2 = ClassDel()"
   ]
  },
  {
   "cell_type": "code",
   "execution_count": null,
   "metadata": {},
   "outputs": [],
   "source": [
    "del c1"
   ]
  },
  {
   "cell_type": "code",
   "execution_count": null,
   "metadata": {},
   "outputs": [],
   "source": [
    "del c2"
   ]
  },
  {
   "cell_type": "markdown",
   "metadata": {},
   "source": [
    "#### for more details [Special method names](https://docs.python.org/2.0/ref/specialnames.html 'Python docs')"
   ]
  },
  {
   "cell_type": "markdown",
   "metadata": {},
   "source": [
    "Main building blocks of Object Oriented Programming is :\n",
    "- Inheritance\n",
    "- Polymorphism\n",
    "- Encapsulation\n",
    "- Abstraction  "
   ]
  },
  {
   "cell_type": "markdown",
   "metadata": {},
   "source": [
    "# Inheritance \n",
    "Inheritance is a way of creating new class for using details of existing class without modifying it. The newly formed class is a derived class (or child class). Similarly, the existing class is a base class (or parent class).\n",
    "                    \n",
    "                    or\n",
    "the process of creating a new class by using the properties of exsiting class."
   ]
  },
  {
   "cell_type": "code",
   "execution_count": null,
   "metadata": {},
   "outputs": [],
   "source": [
    "class ParentClass():\n",
    "    def m1(self):\n",
    "        print(\"parent class\")\n",
    "class ChildClass(ParentClass):\n",
    "    def m2(self):\n",
    "        print(\"child class\")"
   ]
  },
  {
   "cell_type": "code",
   "execution_count": null,
   "metadata": {},
   "outputs": [],
   "source": [
    "p = ParentClass()\n",
    "c = ChildClass()"
   ]
  },
  {
   "cell_type": "code",
   "execution_count": null,
   "metadata": {},
   "outputs": [],
   "source": [
    "p.m1()"
   ]
  },
  {
   "cell_type": "code",
   "execution_count": null,
   "metadata": {},
   "outputs": [],
   "source": [
    "c.m1()"
   ]
  },
  {
   "cell_type": "code",
   "execution_count": null,
   "metadata": {},
   "outputs": [],
   "source": [
    "c.m2()"
   ]
  },
  {
   "cell_type": "code",
   "execution_count": null,
   "metadata": {},
   "outputs": [],
   "source": [
    "p.m2()"
   ]
  },
  {
   "cell_type": "markdown",
   "metadata": {},
   "source": [
    "### Calling Super class methods by using super( )"
   ]
  },
  {
   "cell_type": "code",
   "execution_count": null,
   "metadata": {},
   "outputs": [],
   "source": [
    "class ParentClass():\n",
    "    def m1(self):\n",
    "        print(\"parent class\")\n",
    "class ChildClass(ParentClass):\n",
    "    def m2(self):\n",
    "        super().m1()\n",
    "        print(\"child class\")"
   ]
  },
  {
   "cell_type": "code",
   "execution_count": null,
   "metadata": {},
   "outputs": [],
   "source": [
    "c = ChildClass()\n",
    "c.m2()"
   ]
  },
  {
   "cell_type": "markdown",
   "metadata": {},
   "source": [
    "### Calling Super class variables"
   ]
  },
  {
   "cell_type": "code",
   "execution_count": null,
   "metadata": {},
   "outputs": [],
   "source": [
    "class Parent():\n",
    "    a = 10 \n",
    "    b = 20 # parent class variable\n",
    "\n",
    "class Child(Parent):\n",
    "    x = 100\n",
    "    y = 200 # child class variable\n",
    "    def add(self,i,j): # i, j are local variables\n",
    "        print(i+j) \n",
    "        print(self.x+self.y)\n",
    "        print(self.a+self.b)"
   ]
  },
  {
   "cell_type": "code",
   "execution_count": null,
   "metadata": {},
   "outputs": [],
   "source": [
    "c = Child()"
   ]
  },
  {
   "cell_type": "code",
   "execution_count": null,
   "metadata": {},
   "outputs": [],
   "source": [
    "c.add(1000,2000)"
   ]
  },
  {
   "cell_type": "markdown",
   "metadata": {},
   "source": [
    "### Calling Super class variables with same names"
   ]
  },
  {
   "cell_type": "code",
   "execution_count": null,
   "metadata": {},
   "outputs": [],
   "source": [
    "class Parent():\n",
    "    a = 10 \n",
    "    b = 20 # parent class variable\n",
    "\n",
    "class Child(Parent):\n",
    "    a = 100\n",
    "    b = 200 # child class variable\n",
    "    def add(self,a,b): # local variables\n",
    "        print(a+b) \n",
    "        print(self.a+self.b)\n",
    "        print(super().a+super().b)"
   ]
  },
  {
   "cell_type": "code",
   "execution_count": null,
   "metadata": {},
   "outputs": [],
   "source": [
    "c = Child()"
   ]
  },
  {
   "cell_type": "code",
   "execution_count": null,
   "metadata": {},
   "outputs": [],
   "source": [
    "c.add(1000,2000)"
   ]
  },
  {
   "cell_type": "markdown",
   "metadata": {},
   "source": [
    "### Types of Inheritance \n",
    "    1. Single Inheritance : one parent class contains exactly on child class\n",
    "    2. Multilevel Inheritance : level by level\n",
    "    3. Multiple Inheritance : one child class has multiple parent classes\n",
    "    4. Hierarchical Inheritance : one parents with multiple child classes\n",
    "    5. Hybrid Inheritance : This form combines more than one form of inheritance. Basically, it is a blend of more than one type of inheritance."
   ]
  },
  {
   "cell_type": "markdown",
   "metadata": {},
   "source": [
    "#### Single Inheritance"
   ]
  },
  {
   "cell_type": "code",
   "execution_count": null,
   "metadata": {},
   "outputs": [],
   "source": [
    "class Parent():\n",
    "    pass\n",
    "class Child(Parent):\n",
    "    pass"
   ]
  },
  {
   "cell_type": "markdown",
   "metadata": {},
   "source": [
    "#### Multilevel Inheritance"
   ]
  },
  {
   "cell_type": "code",
   "execution_count": null,
   "metadata": {},
   "outputs": [],
   "source": [
    "class GrandParent():\n",
    "    pass\n",
    "class Parent(GrandParent):\n",
    "    pass\n",
    "class child(Parent):\n",
    "    pass"
   ]
  },
  {
   "cell_type": "code",
   "execution_count": null,
   "metadata": {},
   "outputs": [],
   "source": [
    "class GrandParent():\n",
    "    def m1(self):\n",
    "        print('m1')\n",
    "class Parent(GrandParent):\n",
    "    def m2(self):\n",
    "        print('m2')\n",
    "class child(Parent):\n",
    "    def m3(self):\n",
    "        print('m3')"
   ]
  },
  {
   "cell_type": "code",
   "execution_count": null,
   "metadata": {},
   "outputs": [],
   "source": [
    "c = child()\n",
    "c.m1()"
   ]
  },
  {
   "cell_type": "code",
   "execution_count": null,
   "metadata": {},
   "outputs": [],
   "source": [
    "c.m2()"
   ]
  },
  {
   "cell_type": "code",
   "execution_count": null,
   "metadata": {},
   "outputs": [],
   "source": [
    "c.m3()"
   ]
  },
  {
   "cell_type": "markdown",
   "metadata": {},
   "source": [
    "#### Multiple Inheritance"
   ]
  },
  {
   "cell_type": "code",
   "execution_count": null,
   "metadata": {},
   "outputs": [],
   "source": [
    "class A:\n",
    "    pass\n",
    "class B:\n",
    "    pass\n",
    "class c(A,B):\n",
    "    pass"
   ]
  },
  {
   "cell_type": "code",
   "execution_count": null,
   "metadata": {},
   "outputs": [],
   "source": [
    "class Parent1:\n",
    "    def m1(self):\n",
    "        print('Parent1 m1 method')\n",
    "class Parent2:\n",
    "    def m2(self):\n",
    "        print('Parent2 m2 method')\n",
    "class child(Parent1,Parent2):\n",
    "    def m3(self):\n",
    "        print('child m3 method')"
   ]
  },
  {
   "cell_type": "code",
   "execution_count": null,
   "metadata": {},
   "outputs": [],
   "source": [
    "c = child()\n",
    "c.m1()"
   ]
  },
  {
   "cell_type": "code",
   "execution_count": null,
   "metadata": {},
   "outputs": [],
   "source": [
    "c.m2()"
   ]
  },
  {
   "cell_type": "code",
   "execution_count": null,
   "metadata": {},
   "outputs": [],
   "source": [
    "c.m3()"
   ]
  },
  {
   "cell_type": "markdown",
   "metadata": {},
   "source": [
    "#### Hierarchical Inheritance"
   ]
  },
  {
   "cell_type": "code",
   "execution_count": null,
   "metadata": {},
   "outputs": [],
   "source": [
    "class A:\n",
    "    pass\n",
    "class B(A):\n",
    "    pass\n",
    "class c(A):\n",
    "    pass"
   ]
  },
  {
   "cell_type": "code",
   "execution_count": null,
   "metadata": {},
   "outputs": [],
   "source": [
    "class Vehicle:\n",
    "    def disp1(self):\n",
    "        print(\"Vehicle info\")\n",
    "class car(Vehicle):\n",
    "    def disp2(self):\n",
    "        print(\"car info\")\n",
    "class plane(Vehicle):\n",
    "    def disp3(self):\n",
    "        print(\"plane info\")"
   ]
  },
  {
   "cell_type": "code",
   "execution_count": null,
   "metadata": {},
   "outputs": [],
   "source": [
    "vehicle = Vehicle()\n",
    "vehicle.disp1()"
   ]
  },
  {
   "cell_type": "code",
   "execution_count": null,
   "metadata": {},
   "outputs": [],
   "source": [
    "car = car()\n",
    "car.disp2()"
   ]
  },
  {
   "cell_type": "markdown",
   "metadata": {},
   "source": [
    "### To check hierarchy of an object us isinstance( ) function"
   ]
  },
  {
   "cell_type": "code",
   "execution_count": null,
   "metadata": {},
   "outputs": [],
   "source": [
    "n = 5\n",
    "isinstance(n, int) # to know the type of the object"
   ]
  },
  {
   "cell_type": "code",
   "execution_count": null,
   "metadata": {},
   "outputs": [],
   "source": [
    "class parent:\n",
    "    pass\n",
    "class child(parent):\n",
    "    pass\n",
    "\n",
    "p = parent()\n",
    "c = child()"
   ]
  },
  {
   "cell_type": "code",
   "execution_count": null,
   "metadata": {},
   "outputs": [],
   "source": [
    "print(isinstance(p,parent))\n",
    "print(isinstance(c,child))\n",
    "print(isinstance(p,parent))\n",
    "print(isinstance(p,child))"
   ]
  },
  {
   "cell_type": "markdown",
   "metadata": {},
   "source": [
    "# Polymorphism \n",
    "one functionality with multiply behaviour\n",
    "\n",
    "            or\n",
    "the ability to appear in more then one form \n"
   ]
  },
  {
   "cell_type": "code",
   "execution_count": null,
   "metadata": {
    "scrolled": true
   },
   "outputs": [],
   "source": [
    "len(\"string\")"
   ]
  },
  {
   "cell_type": "code",
   "execution_count": null,
   "metadata": {},
   "outputs": [],
   "source": [
    "len([1,2,3,6,8])"
   ]
  },
  {
   "cell_type": "markdown",
   "metadata": {},
   "source": [
    "### Over riding \n",
    "implementations are already present in the parent class but tha child does not statisfied with that implementation "
   ]
  },
  {
   "cell_type": "code",
   "execution_count": null,
   "metadata": {},
   "outputs": [],
   "source": [
    "# over riding variable\n",
    "\n",
    "class parent:\n",
    "    name = 'lakshman'\n",
    "class child(parent):\n",
    "    name = \"lucky\"\n",
    "\n",
    "c = child()\n",
    "print(c.name)"
   ]
  },
  {
   "cell_type": "code",
   "execution_count": null,
   "metadata": {},
   "outputs": [],
   "source": [
    "# with out overriding \n",
    "\n",
    "class parent:\n",
    "    name = 'lakshman'\n",
    "class child(parent):\n",
    "    pass\n",
    "\n",
    "c = child()\n",
    "print(c.name)"
   ]
  },
  {
   "cell_type": "code",
   "execution_count": null,
   "metadata": {},
   "outputs": [],
   "source": [
    "# over riding methods \n",
    "\n",
    "class parent:\n",
    "    def career(self):\n",
    "        return \"Engineer\"\n",
    "class child(parent):\n",
    "    def career(self):\n",
    "        return \"Photographer\"\n",
    "\n",
    "c = child()\n",
    "print(c.career())"
   ]
  },
  {
   "cell_type": "markdown",
   "metadata": {},
   "source": [
    "# Encapsulation\n",
    "the process of binding the data  (binding the data means other persons can not access the data)\n",
    "\n",
    "for binding the data we need to use private modifier here we represent it with __\n",
    "\n",
    "we can access private data with in the class only"
   ]
  },
  {
   "cell_type": "code",
   "execution_count": null,
   "metadata": {},
   "outputs": [],
   "source": [
    "# private attribute\n",
    "\n",
    "class A:\n",
    "    __a = 10\n",
    "    def disp(self):\n",
    "        print(self.__a)\n",
    "obj = A()\n",
    "obj.disp()"
   ]
  },
  {
   "cell_type": "code",
   "execution_count": null,
   "metadata": {},
   "outputs": [],
   "source": [
    "obj.__a"
   ]
  },
  {
   "cell_type": "code",
   "execution_count": null,
   "metadata": {},
   "outputs": [],
   "source": [
    "# private methods\n",
    "\n",
    "class Myclass:\n",
    "    def __disp(self):\n",
    "        print('this is a private method')\n",
    "    def disp2(self):\n",
    "        print('this is calling private method')\n",
    "        self.__disp()\n",
    "\n",
    "obj = Myclass()\n",
    "obj.disp2()"
   ]
  },
  {
   "cell_type": "code",
   "execution_count": null,
   "metadata": {},
   "outputs": [],
   "source": [
    "obj.__disp()"
   ]
  },
  {
   "cell_type": "markdown",
   "metadata": {},
   "source": [
    "### Getter and setter \n",
    "\n",
    "to access private data **indirectly** we use this getter and setter methods\n"
   ]
  },
  {
   "cell_type": "code",
   "execution_count": null,
   "metadata": {},
   "outputs": [],
   "source": [
    "class Employee():\n",
    "    __id = 111\n",
    "    \n",
    "    def set_eid(self,eid):\n",
    "        self.__id = eid\n",
    "    \n",
    "    def get_eid(self):\n",
    "        return self.__id\n",
    "e = Employee()\n",
    "print(e.__id)"
   ]
  },
  {
   "cell_type": "code",
   "execution_count": null,
   "metadata": {},
   "outputs": [],
   "source": [
    "print(e.get_eid())"
   ]
  },
  {
   "cell_type": "code",
   "execution_count": null,
   "metadata": {},
   "outputs": [],
   "source": [
    "e.set_eid(333)\n",
    "print(e.get_eid())"
   ]
  },
  {
   "cell_type": "markdown",
   "metadata": {},
   "source": [
    "# Abstraction\n",
    "the process of highlighting the services and hiding the implementation in child class\n",
    "\n",
    "Abstraction class just showing declarations but the implementations are made with child classes\n",
    "\n",
    "it is a special kind of class for wich we can not create a object\n",
    "\n",
    "to make your class is abstract class, your class must be child of ABC class (ABC is predefined abstract class, available in ABC module)"
   ]
  },
  {
   "cell_type": "code",
   "execution_count": null,
   "metadata": {},
   "outputs": [],
   "source": [
    "from abc import ABC, abstractmethod\n",
    "class A(ABC):\n",
    "    @abstractmethod # to specify this method is abstract method\n",
    "    def m1(self): # only declaration\n",
    "        pass"
   ]
  },
  {
   "cell_type": "code",
   "execution_count": null,
   "metadata": {},
   "outputs": [],
   "source": [
    "class A(ABC):\n",
    "    @abstractmethod\n",
    "    def disp(self):\n",
    "        pass\n",
    "class B(A):\n",
    "    def disp(self):\n",
    "        print(\"good morning\")\n",
    "b = B()\n",
    "b.disp()"
   ]
  },
  {
   "cell_type": "code",
   "execution_count": null,
   "metadata": {},
   "outputs": [],
   "source": [
    "a = A()"
   ]
  },
  {
   "cell_type": "code",
   "execution_count": null,
   "metadata": {},
   "outputs": [],
   "source": [
    "class person(ABC):\n",
    "    @abstractmethod\n",
    "    def eats(self):\n",
    "        pass\n",
    "class satya(person):\n",
    "    def eats(self):\n",
    "        print(\"non veg\")\n",
    "class ankith(person):\n",
    "    def eats(self):\n",
    "        print(\"veg\")\n",
    "satya = satya()\n",
    "satya.eats()"
   ]
  },
  {
   "cell_type": "code",
   "execution_count": null,
   "metadata": {},
   "outputs": [],
   "source": [
    "ankith = ankith()\n",
    "ankith.eats()"
   ]
  },
  {
   "cell_type": "code",
   "execution_count": null,
   "metadata": {},
   "outputs": [],
   "source": [
    "class A(ABC):\n",
    "    @abstractmethod\n",
    "    def disp1(self):\n",
    "        pass\n",
    "    @abstractmethod\n",
    "    def disp2(self):\n",
    "        pass  \n",
    "class B(A):\n",
    "    def disp1(self):\n",
    "        print(\"Hi\")\n",
    "class C(B):\n",
    "    def disp2(self):\n",
    "        print(\"Hello\")\n",
    "b = B()\n",
    "b.disp1()"
   ]
  },
  {
   "cell_type": "code",
   "execution_count": null,
   "metadata": {},
   "outputs": [],
   "source": [
    "c = C()\n",
    "c.disp1()"
   ]
  },
  {
   "cell_type": "code",
   "execution_count": null,
   "metadata": {},
   "outputs": [],
   "source": [
    "c.disp2()"
   ]
  },
  {
   "cell_type": "markdown",
   "metadata": {},
   "source": [
    "##### in absabstract class we can declare constructors"
   ]
  },
  {
   "cell_type": "code",
   "execution_count": null,
   "metadata": {},
   "outputs": [],
   "source": [
    "class A(ABC):\n",
    "    def __init__(self,value):\n",
    "        self.value = value\n",
    "    @abstractmethod\n",
    "    def disp(self):\n",
    "        pass\n",
    "class add(A):\n",
    "    def disp(self):\n",
    "        print(10+self.value)\n",
    "class mul(A):\n",
    "    def disp(self):\n",
    "        print(10*self.value)"
   ]
  },
  {
   "cell_type": "code",
   "execution_count": null,
   "metadata": {},
   "outputs": [],
   "source": [
    "a = add(10)\n",
    "b = mul(5)"
   ]
  },
  {
   "cell_type": "code",
   "execution_count": null,
   "metadata": {},
   "outputs": [],
   "source": [
    "a.disp()"
   ]
  },
  {
   "cell_type": "code",
   "execution_count": null,
   "metadata": {},
   "outputs": [],
   "source": [
    "b.disp()"
   ]
  },
  {
   "cell_type": "code",
   "execution_count": null,
   "metadata": {},
   "outputs": [],
   "source": []
  }
 ],
 "metadata": {
  "kernelspec": {
   "display_name": "Python 3",
   "language": "python",
   "name": "python3"
  },
  "language_info": {
   "codemirror_mode": {
    "name": "ipython",
    "version": 3
   },
   "file_extension": ".py",
   "mimetype": "text/x-python",
   "name": "python",
   "nbconvert_exporter": "python",
   "pygments_lexer": "ipython3",
   "version": "3.7.3"
  }
 },
 "nbformat": 4,
 "nbformat_minor": 2
}
