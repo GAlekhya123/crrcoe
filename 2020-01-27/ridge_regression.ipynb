{
 "cells": [
  {
   "cell_type": "code",
   "execution_count": 73,
   "metadata": {
    "collapsed": true
   },
   "outputs": [
    {
     "data": {
      "image/png": "[encoded data removed]",
      "text/plain": [
       "<Figure size 432x288 with 1 Axes>"
      ]
     },
     "metadata": {
      "needs_background": "light"
     },
     "output_type": "display_data"
    }
   ],
   "source": [
    "import pandas as pd\n",
    "import numpy as np\n",
    "import matplotlib.pyplot as plt\n",
    "\n",
    "\n",
    "h_train = np.array([4.0,4.5,4.7,5.0])\n",
    "w_train = np.array([50,55,60,70])\n",
    "h_test = np.array([5.5,5.7,5.9,6.2,7.0])\n",
    "w_test = np.array([68,65,69,70,73])\n",
    "plt.scatter(h_train,w_train,color='blue')\n",
    "plt.scatter(h_test,w_test,color='red')\n",
    "plt.xlabel('Height in ft')\n",
    "plt.ylabel('Weight in kgs')\n",
    "plt.show()"
   ]
  },
  {
   "cell_type": "code",
   "execution_count": 74,
   "metadata": {},
   "outputs": [],
   "source": [
    "h_train = pd.DataFrame(h_train.reshape(-1,1))\n",
    "h_test = pd.DataFrame(h_test.reshape(-1,1))\n",
    "w_train = pd.DataFrame(w_train.reshape(-1,1))\n",
    "w_test = pd.DataFrame(w_test.reshape(-1,1))"
   ]
  },
  {
   "cell_type": "code",
   "execution_count": 75,
   "metadata": {},
   "outputs": [
    {
     "data": {
      "text/html": [
       "<div>\n",
       "<style scoped>\n",
       "    .dataframe tbody tr th:only-of-type {\n",
       "        vertical-align: middle;\n",
       "    }\n",
       "\n",
       "    .dataframe tbody tr th {\n",
       "        vertical-align: top;\n",
       "    }\n",
       "\n",
       "    .dataframe thead th {\n",
       "        text-align: right;\n",
       "    }\n",
       "</style>\n",
       "<table border=\"1\" class=\"dataframe\">\n",
       "  <thead>\n",
       "    <tr style=\"text-align: right;\">\n",
       "      <th></th>\n",
       "      <th>0</th>\n",
       "    </tr>\n",
       "  </thead>\n",
       "  <tbody>\n",
       "    <tr>\n",
       "      <th>0</th>\n",
       "      <td>68</td>\n",
       "    </tr>\n",
       "    <tr>\n",
       "      <th>1</th>\n",
       "      <td>65</td>\n",
       "    </tr>\n",
       "    <tr>\n",
       "      <th>2</th>\n",
       "      <td>69</td>\n",
       "    </tr>\n",
       "    <tr>\n",
       "      <th>3</th>\n",
       "      <td>70</td>\n",
       "    </tr>\n",
       "    <tr>\n",
       "      <th>4</th>\n",
       "      <td>73</td>\n",
       "    </tr>\n",
       "  </tbody>\n",
       "</table>\n",
       "</div>"
      ],
      "text/plain": [
       "    0\n",
       "0  68\n",
       "1  65\n",
       "2  69\n",
       "3  70\n",
       "4  73"
      ]
     },
     "execution_count": 75,
     "metadata": {},
     "output_type": "execute_result"
    }
   ],
   "source": [
    "w_test"
   ]
  },
  {
   "cell_type": "code",
   "execution_count": 83,
   "metadata": {},
   "outputs": [
    {
     "data": {
      "image/png": "[encoded data removed]",
      "text/plain": [
       "<Figure size 432x288 with 1 Axes>"
      ]
     },
     "metadata": {
      "needs_background": "light"
     },
     "output_type": "display_data"
    }
   ],
   "source": [
    "from sklearn.linear_model import LinearRegression\n",
    "from sklearn.linear_model import Ridge\n",
    "model_ridge = Ridge(alpha=1)\n",
    "model_ridge.fit(h_train,w_train)\n",
    "model_lnr = LinearRegression()\n",
    "model_lnr.fit(h_train,w_train)\n",
    "\n",
    "x_gen = np.linspace(3,7,100)\n",
    "# x_gen = x_gen.reshape(1,-1)\n",
    "y_rid= model_ridge.predict(x_gen.reshape(-1,1))\n",
    "y_lnr = model_lnr.predict(x_gen.reshape(-1,1))\n",
    "\n",
    "plt.scatter(np.array(h_train),w_train,color='blue')\n",
    "plt.scatter(np.array(h_test),w_test,color='red')\n",
    "plt.scatter(x_gen,y_lnr,s=4,color='orange',label='Linear Regression')\n",
    "plt.scatter(x_gen,y_rid,s=4,color='green',label='rideg')\n",
    "plt.legend()\n",
    "plt.show()"
   ]
  },
  {
   "cell_type": "code",
   "execution_count": null,
   "metadata": {},
   "outputs": [],
   "source": []
  },
  {
   "cell_type": "code",
   "execution_count": null,
   "metadata": {},
   "outputs": [],
   "source": []
  }
 ],
 "metadata": {
  "kernelspec": {
   "display_name": "Python 3",
   "language": "python",
   "name": "python3"
  },
  "language_info": {
   "codemirror_mode": {
    "name": "ipython",
    "version": 3
   },
   "file_extension": ".py",
   "mimetype": "text/x-python",
   "name": "python",
   "nbconvert_exporter": "python",
   "pygments_lexer": "ipython3",
   "version": "3.7.3"
  }
 },
 "nbformat": 4,
 "nbformat_minor": 2
}
