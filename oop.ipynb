{
 "cells": [
  {
   "cell_type": "markdown",
   "metadata": {},
   "source": [
    "## Introduction to OOPs in Python\n",
    "Python is a multi-paradigm programming language. Means it supports functional programming,it supports object-oriented programming and it also works with procedure oriented programming.\n",
    "\n",
    "#### procedure oriented programming: \n",
    "simply consist of a series of computational steps to be carried out. During a program’s execution, any given procedure might be called at any point, including by other procedures or itself.\n",
    "\n",
    "### Object-Oriented Programming:\n",
    "- **Object** : is the physical entity representing the memory\n",
    "- **attributes** : nothing but variables\n",
    "- **behavior** : methods\n",
    "- **Class**: A class is a logical entity contains  logic of the application.class is blueprint for the object (it decides object creation)\n",
    "\n",
    "## Define a Class:"
   ]
  },
  {
   "cell_type": "code",
   "execution_count": null,
   "metadata": {},
   "outputs": [],
   "source": [
    "class myclass1:\n",
    "    pass"
   ]
  },
  {
   "cell_type": "code",
   "execution_count": null,
   "metadata": {},
   "outputs": [],
   "source": [
    "class myclass2():\n",
    "    pass\n",
    "class myclass3(object):\n",
    "    pass"
   ]
  },
  {
   "cell_type": "markdown",
   "metadata": {},
   "source": [
    "In python 3.X class is child class of a Object, where as python 2.Xclass is not a child class of object."
   ]
  },
  {
   "cell_type": "code",
   "execution_count": null,
   "metadata": {},
   "outputs": [],
   "source": [
    "print(issubclass(myclass1,object))\n",
    "print(issubclass(myclass2,object))\n",
    "print(issubclass(myclass3,object))"
   ]
  },
  {
   "cell_type": "markdown",
   "metadata": {},
   "source": [
    "### declairing the function inciside the class\n",
    " - to represent this function is belongs to class we need to mention **self** and it is mendetory"
   ]
  },
  {
   "cell_type": "code",
   "execution_count": null,
   "metadata": {},
   "outputs": [],
   "source": [
    "class Myclass:\n",
    "    def disp1(self): \n",
    "        print(\"hi\")\n",
    "    def disp2(self,name):\n",
    "        print(\"good morning\", name)"
   ]
  },
  {
   "cell_type": "code",
   "execution_count": null,
   "metadata": {},
   "outputs": [],
   "source": [
    "a = Myclass()\n",
    "a.disp1()"
   ]
  },
  {
   "cell_type": "code",
   "execution_count": null,
   "metadata": {},
   "outputs": [],
   "source": [
    "a.disp2('crrcoe')"
   ]
  },
  {
   "cell_type": "markdown",
   "metadata": {},
   "source": [
    "## Declairing the variable inside the class\n",
    "- to represent class variable always use **self** key word"
   ]
  },
  {
   "cell_type": "code",
   "execution_count": null,
   "metadata": {},
   "outputs": [],
   "source": [
    "class MyClassart():\n",
    "    a = 23\n",
    "    b = 89\n",
    "    def add(self):\n",
    "        return self.a+self.b\n",
    "    def mul(self):\n",
    "        return self.a*self.b\n",
    "art = MyClassart()\n",
    "art.add()"
   ]
  },
  {
   "cell_type": "code",
   "execution_count": null,
   "metadata": {},
   "outputs": [],
   "source": [
    "art.mul()"
   ]
  },
  {
   "cell_type": "markdown",
   "metadata": {},
   "source": [
    "## local , class and global variable"
   ]
  },
  {
   "cell_type": "code",
   "execution_count": null,
   "metadata": {},
   "outputs": [],
   "source": [
    "i,j = 10,20 # global variable\n",
    "class MyClassVars():\n",
    "    a = 2\n",
    "    b = 4     # Class variable\n",
    "    def add(self,x,y): # loacl variable\n",
    "        print(x,y)\n",
    "        print(self.a,self.b)\n",
    "        print(i,j)\n",
    "obj = MyClassVars()\n",
    "obj.add(9,1)"
   ]
  },
  {
   "cell_type": "markdown",
   "metadata": {},
   "source": [
    "## local , class and global variable with same names\n",
    "we need to use globals()['varname']"
   ]
  },
  {
   "cell_type": "code",
   "execution_count": null,
   "metadata": {},
   "outputs": [],
   "source": [
    "a,b = 10,20 # global variable\n",
    "class MyClassVars():\n",
    "    a = 2\n",
    "    b = 4     # Class variable\n",
    "    def add(self,a,b): # loacl variable\n",
    "        print(a,b, a+b)\n",
    "        print(self.a,self.b,self.a+self.b)\n",
    "        print(globals()['a'],globals()['b'],globals()['a']+globals()['b'])\n",
    "obj = MyClassVars()\n",
    "obj.add(9,1)"
   ]
  },
  {
   "cell_type": "markdown",
   "metadata": {},
   "source": [
    "### named object and name less object\n",
    "named object has reference variable\n",
    "\n",
    "name less object doesn't refer any variable\n",
    "\n",
    "Note : each object has different memorys"
   ]
  },
  {
   "cell_type": "code",
   "execution_count": null,
   "metadata": {},
   "outputs": [],
   "source": [
    "class Myclass4():\n",
    "    def disp4(self):\n",
    "        print(\"hello\")\n",
    "obj4 = Myclass4()"
   ]
  },
  {
   "cell_type": "code",
   "execution_count": null,
   "metadata": {},
   "outputs": [],
   "source": [
    "obj4.disp4()"
   ]
  },
  {
   "cell_type": "code",
   "execution_count": null,
   "metadata": {},
   "outputs": [],
   "source": [
    "Myclass4().disp4()"
   ]
  },
  {
   "cell_type": "markdown",
   "metadata": {},
   "source": [
    "## instance and static method"
   ]
  },
  {
   "cell_type": "code",
   "execution_count": null,
   "metadata": {},
   "outputs": [],
   "source": [
    "class MyClass5():\n",
    "    def m1(self):\n",
    "        print(\"instance method\")\n",
    "    @staticmethod\n",
    "    def m2():\n",
    "        print(\"static method\")"
   ]
  },
  {
   "cell_type": "code",
   "execution_count": null,
   "metadata": {},
   "outputs": [],
   "source": [
    "obj5 = MyClass5()\n",
    "obj5.m1()"
   ]
  },
  {
   "cell_type": "code",
   "execution_count": null,
   "metadata": {},
   "outputs": [],
   "source": [
    "obj5.m2()"
   ]
  },
  {
   "cell_type": "markdown",
   "metadata": {},
   "source": [
    "# Constructor \n",
    "Constuctor methods are automatically executed when we are creating objects"
   ]
  },
  {
   "cell_type": "code",
   "execution_count": null,
   "metadata": {},
   "outputs": [],
   "source": [
    "class ConClass():\n",
    "    def __init__(self):\n",
    "        print(\"constructor\")\n",
    "    def mymethod(self):\n",
    "        print(\"method\")\n",
    "c = ConClass()\n",
    "c.mymethod()"
   ]
  },
  {
   "cell_type": "markdown",
   "metadata": {},
   "source": [
    "#### callling current class methods"
   ]
  },
  {
   "cell_type": "code",
   "execution_count": null,
   "metadata": {},
   "outputs": [],
   "source": [
    "class CallCurrentClassMethods:\n",
    "    def method1(self):\n",
    "        print('method1')\n",
    "        self.method2(12)\n",
    "    def method2(self,a):\n",
    "        print('method2',a)\n",
    "        \n",
    "        \n",
    "obj6 = CallCurrentClassMethods()\n",
    "obj6.method1()"
   ]
  },
  {
   "cell_type": "markdown",
   "metadata": {},
   "source": [
    "## `__str__`\n",
    "Called by the str() built-in function and by the print statement to compute the ``informal`` string representation of an object. This differs from __repr__() in that it does not have to be a valid Python expression"
   ]
  },
  {
   "cell_type": "code",
   "execution_count": null,
   "metadata": {},
   "outputs": [],
   "source": [
    "class ClassStr():\n",
    "    def __str__(self):\n",
    "        return \"it is only prints string data\""
   ]
  },
  {
   "cell_type": "code",
   "execution_count": null,
   "metadata": {},
   "outputs": [],
   "source": [
    "obj7 = ClassStr()\n",
    "print(obj7)"
   ]
  },
  {
   "cell_type": "markdown",
   "metadata": {},
   "source": [
    "## `__del__` \n",
    "destructor, Called when the instance is about to be destroyed."
   ]
  },
  {
   "cell_type": "code",
   "execution_count": null,
   "metadata": {},
   "outputs": [],
   "source": [
    "class ClassDel:\n",
    "    pass\n",
    "c1 = ClassDel()\n",
    "c2 = ClassDel()"
   ]
  },
  {
   "cell_type": "code",
   "execution_count": null,
   "metadata": {},
   "outputs": [],
   "source": [
    "del c1"
   ]
  },
  {
   "cell_type": "code",
   "execution_count": null,
   "metadata": {},
   "outputs": [],
   "source": [
    "del c2"
   ]
  },
  {
   "cell_type": "code",
   "execution_count": null,
   "metadata": {},
   "outputs": [],
   "source": [
    "class ClassDel:\n",
    "    def __del__(self):\n",
    "        print('distroyed..')\n",
    "c1 = ClassDel()\n",
    "c2 = ClassDel()"
   ]
  },
  {
   "cell_type": "code",
   "execution_count": null,
   "metadata": {},
   "outputs": [],
   "source": [
    "del c1"
   ]
  },
  {
   "cell_type": "code",
   "execution_count": null,
   "metadata": {},
   "outputs": [],
   "source": [
    "del c2"
   ]
  },
  {
   "cell_type": "markdown",
   "metadata": {},
   "source": [
    "#### for more details [Special method names](https://docs.python.org/2.0/ref/specialnames.html 'Python docs')"
   ]
  },
  {
   "cell_type": "markdown",
   "metadata": {},
   "source": [
    "Main building blocks of Object Oriented Programming is :\n",
    "- Inheritance\n",
    "- Polymorphism\n",
    "- Encapsulation\n",
    "- Abstraction  "
   ]
  },
  {
   "cell_type": "markdown",
   "metadata": {},
   "source": [
    "# Inheritance \n",
    "Inheritance is a way of creating new class for using details of existing class without modifying it. The newly formed class is a derived class (or child class). Similarly, the existing class is a base class (or parent class).\n",
    "                    \n",
    "                    or\n",
    "the process of creating a new class by using the properties of exsiting class."
   ]
  },
  {
   "cell_type": "code",
   "execution_count": null,
   "metadata": {},
   "outputs": [],
   "source": [
    "class ParentClass():\n",
    "    def m1(self):\n",
    "        print(\"parent class\")\n",
    "class ChildClass(ParentClass):\n",
    "    def m2(self):\n",
    "        print(\"child class\")"
   ]
  },
  {
   "cell_type": "code",
   "execution_count": null,
   "metadata": {},
   "outputs": [],
   "source": [
    "p = ParentClass()\n",
    "c = ChildClass()"
   ]
  },
  {
   "cell_type": "code",
   "execution_count": null,
   "metadata": {},
   "outputs": [],
   "source": [
    "p.m1()"
   ]
  },
  {
   "cell_type": "code",
   "execution_count": null,
   "metadata": {},
   "outputs": [],
   "source": [
    "c.m1()"
   ]
  },
  {
   "cell_type": "code",
   "execution_count": null,
   "metadata": {},
   "outputs": [],
   "source": [
    "c.m2()"
   ]
  },
  {
   "cell_type": "code",
   "execution_count": null,
   "metadata": {},
   "outputs": [],
   "source": [
    "p.m2()"
   ]
  },
  {
   "cell_type": "markdown",
   "metadata": {},
   "source": [
    "### Calling Super class methods by using super( )"
   ]
  },
  {
   "cell_type": "code",
   "execution_count": null,
   "metadata": {},
   "outputs": [],
   "source": [
    "class ParentClass():\n",
    "    def m1(self):\n",
    "        print(\"parent class\")\n",
    "class ChildClass(ParentClass):\n",
    "    def m2(self):\n",
    "        super().m1()\n",
    "        print(\"child class\")"
   ]
  },
  {
   "cell_type": "code",
   "execution_count": null,
   "metadata": {},
   "outputs": [],
   "source": [
    "c = ChildClass()\n",
    "c.m2()"
   ]
  },
  {
   "cell_type": "markdown",
   "metadata": {},
   "source": [
    "### Calling Super class variables"
   ]
  },
  {
   "cell_type": "code",
   "execution_count": null,
   "metadata": {},
   "outputs": [],
   "source": [
    "class Parent():\n",
    "    a = 10 \n",
    "    b = 20 # parent class variable\n",
    "\n",
    "class Child(Parent):\n",
    "    x = 100\n",
    "    y = 200 # child class variable\n",
    "    def add(self,i,j): # i, j are local variables\n",
    "        print(i+j) \n",
    "        print(self.x+self.y)\n",
    "        print(self.a+self.b)"
   ]
  },
  {
   "cell_type": "code",
   "execution_count": null,
   "metadata": {},
   "outputs": [],
   "source": [
    "c = Child()"
   ]
  },
  {
   "cell_type": "code",
   "execution_count": null,
   "metadata": {},
   "outputs": [],
   "source": [
    "c.add(1000,2000)"
   ]
  },
  {
   "cell_type": "markdown",
   "metadata": {},
   "source": [
    "### Calling Super class variables with same names"
   ]
  },
  {
   "cell_type": "code",
   "execution_count": null,
   "metadata": {},
   "outputs": [],
   "source": [
    "class Parent():\n",
    "    a = 10 \n",
    "    b = 20 # parent class variable\n",
    "\n",
    "class Child(Parent):\n",
    "    a = 100\n",
    "    b = 200 # child class variable\n",
    "    def add(self,a,b): # local variables\n",
    "        print(a+b) \n",
    "        print(self.a+self.b)\n",
    "        print(super().a+super().b)"
   ]
  },
  {
   "cell_type": "code",
   "execution_count": null,
   "metadata": {},
   "outputs": [],
   "source": [
    "c = Child()"
   ]
  },
  {
   "cell_type": "code",
   "execution_count": null,
   "metadata": {},
   "outputs": [],
   "source": [
    "c.add(1000,2000)"
   ]
  },
  {
   "cell_type": "markdown",
   "metadata": {},
   "source": [
    "### Types of Inheritance \n",
    "    1. Single Inheritance : one parent class contains exactly on child class\n",
    "    2. Multilevel Inheritance : level by level\n",
    "    3. Multiple Inheritance : one child class has multiple parent classes\n",
    "    4. Hierarchical Inheritance : one parents with multiple child classes\n",
    "    5. Hybrid Inheritance : This form combines more than one form of inheritance. Basically, it is a blend of more than one type of inheritance."
   ]
  },
  {
   "cell_type": "markdown",
   "metadata": {},
   "source": [
    "#### Single Inheritance"
   ]
  },
  {
   "cell_type": "code",
   "execution_count": 53,
   "metadata": {},
   "outputs": [],
   "source": [
    "class Parent():\n",
    "    pass\n",
    "class Child(Parent):\n",
    "    pass"
   ]
  },
  {
   "cell_type": "markdown",
   "metadata": {},
   "source": [
    "#### Multilevel Inheritance"
   ]
  },
  {
   "cell_type": "code",
   "execution_count": 52,
   "metadata": {},
   "outputs": [],
   "source": [
    "class GrandParent():\n",
    "    pass\n",
    "class Parent(GrandParent):\n",
    "    pass\n",
    "class child(Parent):\n",
    "    pass"
   ]
  },
  {
   "cell_type": "code",
   "execution_count": 57,
   "metadata": {},
   "outputs": [],
   "source": [
    "class GrandParent():\n",
    "    def m1(self):\n",
    "        print('m1')\n",
    "class Parent(GrandParent):\n",
    "    def m2(self):\n",
    "        print('m2')\n",
    "class child(Parent):\n",
    "    def m3(self):\n",
    "        print('m3')"
   ]
  },
  {
   "cell_type": "code",
   "execution_count": 58,
   "metadata": {},
   "outputs": [
    {
     "name": "stdout",
     "output_type": "stream",
     "text": [
      "m1\n"
     ]
    }
   ],
   "source": [
    "c = child()\n",
    "c.m1()"
   ]
  },
  {
   "cell_type": "code",
   "execution_count": 59,
   "metadata": {},
   "outputs": [
    {
     "name": "stdout",
     "output_type": "stream",
     "text": [
      "m2\n"
     ]
    }
   ],
   "source": [
    "c.m2()"
   ]
  },
  {
   "cell_type": "code",
   "execution_count": 60,
   "metadata": {},
   "outputs": [
    {
     "name": "stdout",
     "output_type": "stream",
     "text": [
      "m3\n"
     ]
    }
   ],
   "source": [
    "c.m3()"
   ]
  },
  {
   "cell_type": "markdown",
   "metadata": {},
   "source": [
    "#### Multiple Inheritance"
   ]
  },
  {
   "cell_type": "code",
   "execution_count": 75,
   "metadata": {},
   "outputs": [],
   "source": [
    "class A:\n",
    "    pass\n",
    "class B:\n",
    "    pass\n",
    "class c(A,B):\n",
    "    pass"
   ]
  },
  {
   "cell_type": "code",
   "execution_count": 76,
   "metadata": {},
   "outputs": [],
   "source": [
    "class Parent1:\n",
    "    def m1(self):\n",
    "        print('Parent1 m1 method')\n",
    "class Parent2:\n",
    "    def m2(self):\n",
    "        print('Parent2 m2 method')\n",
    "class child(Parent1,Parent2):\n",
    "    def m3(self):\n",
    "        print('child m3 method')"
   ]
  },
  {
   "cell_type": "code",
   "execution_count": 77,
   "metadata": {},
   "outputs": [
    {
     "name": "stdout",
     "output_type": "stream",
     "text": [
      "Parent1 m1 method\n"
     ]
    }
   ],
   "source": [
    "c = child()\n",
    "c.m1()"
   ]
  },
  {
   "cell_type": "code",
   "execution_count": 78,
   "metadata": {},
   "outputs": [
    {
     "name": "stdout",
     "output_type": "stream",
     "text": [
      "Parent2 m2 method\n"
     ]
    }
   ],
   "source": [
    "c.m2()"
   ]
  },
  {
   "cell_type": "code",
   "execution_count": 79,
   "metadata": {},
   "outputs": [
    {
     "name": "stdout",
     "output_type": "stream",
     "text": [
      "child m3 method\n"
     ]
    }
   ],
   "source": [
    "c.m3()"
   ]
  },
  {
   "cell_type": "markdown",
   "metadata": {},
   "source": [
    "#### Hierarchical Inheritance"
   ]
  },
  {
   "cell_type": "code",
   "execution_count": 70,
   "metadata": {},
   "outputs": [],
   "source": [
    "class A:\n",
    "    pass\n",
    "class B(A):\n",
    "    pass\n",
    "class c(A):\n",
    "    pass"
   ]
  },
  {
   "cell_type": "code",
   "execution_count": 71,
   "metadata": {},
   "outputs": [],
   "source": [
    "class Vehicle:\n",
    "    def disp1(self):\n",
    "        print(\"Vehicle info\")\n",
    "class car(Vehicle):\n",
    "    def disp2(self):\n",
    "        print(\"car info\")\n",
    "class plane(Vehicle):\n",
    "    def disp3(self):\n",
    "        print(\"plane info\")"
   ]
  },
  {
   "cell_type": "code",
   "execution_count": 73,
   "metadata": {},
   "outputs": [
    {
     "name": "stdout",
     "output_type": "stream",
     "text": [
      "Vehicle info\n"
     ]
    }
   ],
   "source": [
    "vehicle = Vehicle()\n",
    "vehicle.disp1()"
   ]
  },
  {
   "cell_type": "code",
   "execution_count": 74,
   "metadata": {},
   "outputs": [
    {
     "name": "stdout",
     "output_type": "stream",
     "text": [
      "car info\n"
     ]
    }
   ],
   "source": [
    "car = car()\n",
    "car.disp2()"
   ]
  },
  {
   "cell_type": "code",
   "execution_count": null,
   "metadata": {},
   "outputs": [],
   "source": [
    "  "
   ]
  }
 ],
 "metadata": {
  "kernelspec": {
   "display_name": "Python 3",
   "language": "python",
   "name": "python3"
  },
  "language_info": {
   "codemirror_mode": {
    "name": "ipython",
    "version": 3
   },
   "file_extension": ".py",
   "mimetype": "text/x-python",
   "name": "python",
   "nbconvert_exporter": "python",
   "pygments_lexer": "ipython3",
   "version": "3.7.3"
  }
 },
 "nbformat": 4,
 "nbformat_minor": 2
}
